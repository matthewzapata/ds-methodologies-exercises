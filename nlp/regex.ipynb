{
 "cells": [
  {
   "cell_type": "code",
   "execution_count": 184,
   "metadata": {},
   "outputs": [],
   "source": [
    "import re\n",
    "import pandas as pd\n",
    "from datetime import datetime"
   ]
  },
  {
   "cell_type": "markdown",
   "metadata": {},
   "source": [
    "# Regex Exercises"
   ]
  },
  {
   "cell_type": "markdown",
   "metadata": {},
   "source": [
    "### Write a function named is_vowel. \n",
    "It should accept a string as input and use a regular expression to determine if the passed string is a vowel. While not explicity mentioned in the lesson, you can treat the result of re.search as a boolean value that indicates whether or not the regular expression matches the given string"
   ]
  },
  {
   "cell_type": "code",
   "execution_count": 72,
   "metadata": {},
   "outputs": [],
   "source": [
    "def is_vowel(string):\n",
    "    if re.search(r'[aeiou]', string):\n",
    "        print('It\\'s a vowel!')\n",
    "    else:\n",
    "        print('It\\'s not a vowel.')"
   ]
  },
  {
   "cell_type": "code",
   "execution_count": 75,
   "metadata": {},
   "outputs": [
    {
     "name": "stdout",
     "output_type": "stream",
     "text": [
      "It's a vowel!\n"
     ]
    }
   ],
   "source": [
    "string = 'e'\n",
    "is_vowel(string)"
   ]
  },
  {
   "cell_type": "markdown",
   "metadata": {},
   "source": [
    "### Write a function named is_valid_username that accepts a string as input. \n",
    "A valid username starts with a lowercase letter, and only consists of lowercase letters, numbers, or the _ character. It should also be no longer than 32 characters. The function should return either True or False depending on whether the passed string is a valid username."
   ]
  },
  {
   "cell_type": "code",
   "execution_count": 181,
   "metadata": {},
   "outputs": [],
   "source": [
    "def is_valid_username(string):\n",
    "    if re.search(r'^[a-z][a-z0-9_]{1,31}$', string):\n",
    "        return True\n",
    "    else:\n",
    "        return False"
   ]
  },
  {
   "cell_type": "code",
   "execution_count": 183,
   "metadata": {},
   "outputs": [
    {
     "data": {
      "text/plain": [
       "True"
      ]
     },
     "execution_count": 183,
     "metadata": {},
     "output_type": "execute_result"
    }
   ],
   "source": [
    "string = 'sd___234__dsssdsds_3'\n",
    "is_valid_username(string)"
   ]
  },
  {
   "cell_type": "markdown",
   "metadata": {},
   "source": [
    "### Write a regular expression to capture phone numbers. \n",
    "It should match all of the following:\n",
    "\n",
    "- (210) 867 5309\n",
    "- +1 210.867.5309\n",
    "- 867-5309\n",
    "- 210-867-5309"
   ]
  },
  {
   "cell_type": "code",
   "execution_count": 155,
   "metadata": {},
   "outputs": [],
   "source": [
    "def catch_phone(string):\n",
    "    print(string)\n",
    "    return re.findall(r'\\+?\\d?\\s?\\(?\\d*\\)?\\s?\\.?-?\\d{3}\\s?\\.?-?\\d{4}', string)[0]"
   ]
  },
  {
   "cell_type": "code",
   "execution_count": 161,
   "metadata": {},
   "outputs": [
    {
     "name": "stdout",
     "output_type": "stream",
     "text": [
      "wefwefwef+1 210.867.5309wefwefwef\n",
      "+1 210.867.5309\n",
      "poj0iji00000ujt0ihn(210) 867 5309hrgwrghrwherg\n",
      "(210) 867 5309\n",
      "asfa353fg667-5309egef\n",
      "667-5309\n",
      "210-867-5309\n",
      "210-867-5309\n"
     ]
    }
   ],
   "source": [
    "string = 'wefwefwef+1 210.867.5309wefwefwef'\n",
    "print(catch_phone(string))\n",
    "string = 'poj0iji00000ujt0ihn(210) 867 5309hrgwrghrwherg'\n",
    "print(catch_phone(string))\n",
    "string = 'asfa353fg667-5309egef'\n",
    "print(catch_phone(string))\n",
    "string = '210-867-5309'\n",
    "print(catch_phone(string))"
   ]
  },
  {
   "cell_type": "markdown",
   "metadata": {},
   "source": [
    "### Use regular expressions to convert the dates below to the standardized year-month-day format.\n",
    "\n",
    "- 02/04/19\n",
    "- 02/05/19\n",
    "- 02/06/19\n",
    "- 02/07/19\n",
    "- 02/08/19\n",
    "- 02/09/19\n",
    "- 02/10/19"
   ]
  },
  {
   "cell_type": "code",
   "execution_count": 193,
   "metadata": {},
   "outputs": [
    {
     "data": {
      "text/plain": [
       "'2019/02/04'"
      ]
     },
     "execution_count": 193,
     "metadata": {},
     "output_type": "execute_result"
    }
   ],
   "source": [
    "datetime.strptime(string, r'%m/%d/%y').strftime('%Y/%m/%d')"
   ]
  },
  {
   "cell_type": "markdown",
   "metadata": {},
   "source": [
    "### Write a regex to extract the various parts of these logfile lines:\n",
    "\n",
    "GET /api/v1/sales?page=86 [16/Apr/2019:193452+0000] HTTP/1.1 {200} 510348 \"python-requests/2.21.0\" 97.105.19.58 \n",
    "\n",
    "POST /users_accounts/file-upload [16/Apr/2019:193452+0000] HTTP/1.1 {201} 42 \"User-Agent: Mozilla/5.0 (X11; Fedora; Fedora; Linux x86_64) AppleWebKit/537.36 (KHTML, like Gecko) Chrome/73.0.3683.86 Safari/537.36\" 97.105.19.58 \n",
    "\n",
    "GET /api/v1/items?page=3 [16/Apr/2019:193453+0000] HTTP/1.1 {429} 3561 \"python-requests/2.21.0\" 97.105.19.58"
   ]
  },
  {
   "cell_type": "code",
   "execution_count": 368,
   "metadata": {},
   "outputs": [],
   "source": [
    "def extract_log(string):\n",
    "    return re.findall(r'([A-Z]+)\\s([/a-zA-Z0-9\\?=_-]+)\\s\\[(\\d+)/(\\w+)/(\\d+):([0-9\\+]+)]\\s([A-Z/0-9.]+)\\s\\{(\\d+)\\}\\s(\\d+)\\s\"(.+)\"\\s(.+)', string)\n",
    "\n"
   ]
  },
  {
   "cell_type": "code",
   "execution_count": 369,
   "metadata": {},
   "outputs": [
    {
     "name": "stdout",
     "output_type": "stream",
     "text": [
      "[('GET', '/api/v1/sales?page=86', '16', 'Apr', '2019', '193452+0000', 'HTTP/1.1', '200', '510348', 'python-requests/2.21.0', '97.105.19.58')]\n",
      "[('POST', '/users_accounts/file-upload', '16', 'Apr', '2019', '193452+0000', 'HTTP/1.1', '201', '42', 'User-Agent: Mozilla/5.0 (X11; Fedora; Fedora; Linux x86_64) AppleWebKit/537.36 (KHTML, like Gecko) Chrome/73.0.3683.86 Safari/537.36', '97.105.19.58')]\n",
      "[('GET', '/api/v1/items?page=3', '16', 'Apr', '2019', '193453+0000', 'HTTP/1.1', '429', '3561', 'python-requests/2.21.0', '97.105.19.58')]\n"
     ]
    }
   ],
   "source": [
    "string = 'GET /api/v1/sales?page=86 [16/Apr/2019:193452+0000] HTTP/1.1 {200} 510348 \"python-requests/2.21.0\" 97.105.19.58'\n",
    "print(extract_log(string))\n",
    "string = 'POST /users_accounts/file-upload [16/Apr/2019:193452+0000] HTTP/1.1 {201} 42 \"User-Agent: Mozilla/5.0 (X11; Fedora; Fedora; Linux x86_64) AppleWebKit/537.36 (KHTML, like Gecko) Chrome/73.0.3683.86 Safari/537.36\" 97.105.19.58'\n",
    "print(extract_log(string))\n",
    "string = 'GET /api/v1/items?page=3 [16/Apr/2019:193453+0000] HTTP/1.1 {429} 3561 \"python-requests/2.21.0\" 97.105.19.58'\n",
    "print(extract_log(string))"
   ]
  },
  {
   "cell_type": "markdown",
   "metadata": {},
   "source": [
    "### You can find a list of words on your mac at /usr/share/dict/words. \n",
    "Use this file to answer the following questions:\n",
    "\n",
    "- How many words have at least 3 vowels?\n",
    "- How many words have at least 3 vowels in a row?\n",
    "- How many words have at least 4 consonants in a row?\n",
    "- How many words start and end with the same letter?\n",
    "- How many words start and end with a vowel?\n",
    "- How many words contain the same letter 3 times in a row?\n",
    "- What other interesting patterns in words can you find?"
   ]
  },
  {
   "cell_type": "code",
   "execution_count": 404,
   "metadata": {},
   "outputs": [
    {
     "name": "stdout",
     "output_type": "stream",
     "text": [
      "{'bytes_sent': '510348',\n",
      " 'day': '16',\n",
      " 'hour': '19',\n",
      " 'ip': '97.105.19.58',\n",
      " 'method': 'GET',\n",
      " 'minute': '34',\n",
      " 'month': 'Apr',\n",
      " 'path': '/api/v1/sales',\n",
      " 'protocol': 'HTTP/1.1',\n",
      " 'query_string': 'page=86',\n",
      " 'second': '52',\n",
      " 'status': '200',\n",
      " 'timezone': '+0000',\n",
      " 'user_agent': 'python-requests/2.21.0',\n",
      " 'year': '2019'}\n",
      "{'bytes_sent': '42',\n",
      " 'day': '16',\n",
      " 'hour': '19',\n",
      " 'ip': '97.105.19.58',\n",
      " 'method': 'POST',\n",
      " 'minute': '34',\n",
      " 'month': 'Apr',\n",
      " 'path': '/users_accounts/file-upload',\n",
      " 'protocol': 'HTTP/1.1',\n",
      " 'query_string': None,\n",
      " 'second': '52',\n",
      " 'status': '201',\n",
      " 'timezone': '+0000',\n",
      " 'user_agent': 'User-Agent: Mozilla/5.0 (X11; Fedora; Fedora; Linux x86_64) '\n",
      "               'AppleWebKit/537.36 (KHTML, like Gecko) Chrome/73.0.3683.86 '\n",
      "               'Safari/537.36',\n",
      " 'year': '2019'}\n",
      "{'bytes_sent': '3561',\n",
      " 'day': '16',\n",
      " 'hour': '19',\n",
      " 'ip': '97.105.19.58',\n",
      " 'method': 'GET',\n",
      " 'minute': '34',\n",
      " 'month': 'Apr',\n",
      " 'path': '/api/v1/items',\n",
      " 'protocol': 'HTTP/1.1',\n",
      " 'query_string': 'page=3',\n",
      " 'second': '53',\n",
      " 'status': '429',\n",
      " 'timezone': '+0000',\n",
      " 'user_agent': 'python-requests/2.21.0',\n",
      " 'year': '2019'}\n"
     ]
    }
   ],
   "source": [
    "from pprint import pprint\n",
    "\n",
    "log_lines = '''\n",
    "GET /api/v1/sales?page=86 [16/Apr/2019:193452+0000] HTTP/1.1 {200} 510348 \"python-requests/2.21.0\" 97.105.19.58\n",
    "POST /users_accounts/file-upload [16/Apr/2019:193452+0000] HTTP/1.1 {201} 42 \"User-Agent: Mozilla/5.0 (X11; Fedora; Fedora; Linux x86_64) AppleWebKit/537.36 (KHTML, like Gecko) Chrome/73.0.3683.86 Safari/537.36\" 97.105.19.58\n",
    "GET /api/v1/items?page=3 [16/Apr/2019:193453+0000] HTTP/1.1 {429} 3561 \"python-requests/2.21.0\" 97.105.19.58\n",
    "'''.strip().split('\\n')\n",
    "\n",
    "regex = re.compile(r'''\n",
    "(?P<method>POST|GET)\n",
    "\\s*\n",
    "(?P<path>(?:[/\\w-]+))\n",
    "(?:\\?(?P<query_string>.*?)\\s)?\n",
    "\\s*\\[\n",
    "(?P<day>\\d+)/(?P<month>\\w+)/(?P<year>\\d+):\n",
    "(?P<hour>\\d{2})(?P<minute>\\d{2})(?P<second>\\d{2})\n",
    "(?P<timezone>\\+\\d{4})\n",
    "\\]\\s+\n",
    "(?P<protocol>HTTPS?/\\d\\.\\d)\n",
    "\\s+\n",
    "\\{(?P<status>\\d+)\\}\n",
    "\\s+\n",
    "(?P<bytes_sent>\\d+)\n",
    "\\s+\n",
    "\"(?P<user_agent>.*)\"\n",
    "\\s+\n",
    "(?P<ip>\\d{1,3}\\.\\d{1,3}\\.\\d{1,3}\\.\\d{1,3})\n",
    "''', re.VERBOSE)\n",
    "\n",
    "for line in log_lines:\n",
    "    pprint(regex.match(line).groupdict())"
   ]
  },
  {
   "cell_type": "code",
   "execution_count": 405,
   "metadata": {},
   "outputs": [
    {
     "data": {
      "text/plain": [
       "55184"
      ]
     },
     "execution_count": 405,
     "metadata": {},
     "output_type": "execute_result"
    }
   ],
   "source": [
    "with open('/usr/share/dict/words') as f:\n",
    "    words = f.read()\n",
    "\n",
    "# How many words have at least 3 vowels?\n",
    "len(re.findall(r'^.*[aeiou].*[aeiou].*[aeiou]$', words, re.MULTILINE))"
   ]
  },
  {
   "cell_type": "code",
   "execution_count": 406,
   "metadata": {},
   "outputs": [
    {
     "data": {
      "text/plain": [
       "6156"
      ]
     },
     "execution_count": 406,
     "metadata": {},
     "output_type": "execute_result"
    }
   ],
   "source": [
    "# How many words have at least 3 vowels in a row?\n",
    "len(re.findall(r'^.*[aeiou]{3,}.*$', words, re.MULTILINE))"
   ]
  },
  {
   "cell_type": "code",
   "execution_count": 407,
   "metadata": {},
   "outputs": [
    {
     "data": {
      "text/plain": [
       "62922"
      ]
     },
     "execution_count": 407,
     "metadata": {},
     "output_type": "execute_result"
    }
   ],
   "source": [
    "# How many words have at least 4 consonants in a row?\n",
    "len(re.findall(r'^.*[^aeiou]{4,}.*$', words, re.MULTILINE))"
   ]
  },
  {
   "cell_type": "code",
   "execution_count": 408,
   "metadata": {},
   "outputs": [
    {
     "data": {
      "text/plain": [
       "9917"
      ]
     },
     "execution_count": 408,
     "metadata": {},
     "output_type": "execute_result"
    }
   ],
   "source": [
    "# How many words start and end with the same letter?\n",
    "len(re.findall(r'(^(.).*\\2$)', words, re.MULTILINE))"
   ]
  },
  {
   "cell_type": "code",
   "execution_count": 409,
   "metadata": {},
   "outputs": [
    {
     "data": {
      "text/plain": [
       "12351"
      ]
     },
     "execution_count": 409,
     "metadata": {},
     "output_type": "execute_result"
    }
   ],
   "source": [
    "# How many words start and end with a vowel?\n",
    "len(re.findall(r'(^[aeiou].*[aeiou]$)', words, re.MULTILINE))"
   ]
  },
  {
   "cell_type": "code",
   "execution_count": 410,
   "metadata": {},
   "outputs": [
    {
     "data": {
      "text/plain": [
       "7"
      ]
     },
     "execution_count": 410,
     "metadata": {},
     "output_type": "execute_result"
    }
   ],
   "source": [
    "# How many words contain the same letter 3 times in a row?\n",
    "len(re.findall(r'(^.*(.)\\2{2}.*$)', words, re.MULTILINE))"
   ]
  },
  {
   "cell_type": "code",
   "execution_count": null,
   "metadata": {},
   "outputs": [],
   "source": []
  }
 ],
 "metadata": {
  "kernelspec": {
   "display_name": "Python 3",
   "language": "python",
   "name": "python3"
  },
  "language_info": {
   "codemirror_mode": {
    "name": "ipython",
    "version": 3
   },
   "file_extension": ".py",
   "mimetype": "text/x-python",
   "name": "python",
   "nbconvert_exporter": "python",
   "pygments_lexer": "ipython3",
   "version": "3.7.1"
  }
 },
 "nbformat": 4,
 "nbformat_minor": 2
}
