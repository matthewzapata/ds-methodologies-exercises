{
 "cells": [
  {
   "cell_type": "markdown",
   "metadata": {},
   "source": [
    "# Model"
   ]
  },
  {
   "cell_type": "code",
   "execution_count": 1,
   "metadata": {},
   "outputs": [],
   "source": [
    "import pandas as pd\n",
    "from pyspark.sql import SparkSession\n",
    "import pyspark.sql.functions as F\n",
    "from pyspark.sql.functions import col, expr\n",
    "import matplotlib.pyplot as plt\n",
    "import seaborn as sns\n",
    "from pyspark.sql.types import DoubleType"
   ]
  },
  {
   "cell_type": "code",
   "execution_count": 2,
   "metadata": {},
   "outputs": [],
   "source": [
    "spark = SparkSession.builder.master('local[*]').appName('classification').getOrCreate()"
   ]
  },
  {
   "cell_type": "markdown",
   "metadata": {},
   "source": [
    "### Loading the data"
   ]
  },
  {
   "cell_type": "code",
   "execution_count": 3,
   "metadata": {},
   "outputs": [],
   "source": [
    "# cases\n",
    "case_data = \"sa311/case.csv\"\n",
    "df_case = spark.read.csv(case_data, header=True)\n",
    "\n",
    "dept_data = \"sa311/dept.csv\"\n",
    "df_dept = spark.read.csv(dept_data, header=True)"
   ]
  },
  {
   "cell_type": "code",
   "execution_count": 4,
   "metadata": {},
   "outputs": [],
   "source": [
    "df = df_case.join(df_dept, 'dept_division', 'left_outer')"
   ]
  },
  {
   "cell_type": "code",
   "execution_count": 5,
   "metadata": {},
   "outputs": [
    {
     "name": "stdout",
     "output_type": "stream",
     "text": [
      "root\n",
      " |-- dept_division: string (nullable = true)\n",
      " |-- case_id: string (nullable = true)\n",
      " |-- case_opened_date: string (nullable = true)\n",
      " |-- case_closed_date: string (nullable = true)\n",
      " |-- SLA_due_date: string (nullable = true)\n",
      " |-- case_late: string (nullable = true)\n",
      " |-- num_days_late: string (nullable = true)\n",
      " |-- case_closed: string (nullable = true)\n",
      " |-- service_request_type: string (nullable = true)\n",
      " |-- SLA_days: string (nullable = true)\n",
      " |-- case_status: string (nullable = true)\n",
      " |-- source_id: string (nullable = true)\n",
      " |-- request_address: string (nullable = true)\n",
      " |-- council_district: string (nullable = true)\n",
      " |-- dept_name: string (nullable = true)\n",
      " |-- standardized_dept_name: string (nullable = true)\n",
      " |-- dept_subject_to_SLA: string (nullable = true)\n",
      "\n"
     ]
    }
   ],
   "source": [
    "df.printSchema()"
   ]
  },
  {
   "cell_type": "markdown",
   "metadata": {},
   "source": [
    "### Normalizing the text data"
   ]
  },
  {
   "cell_type": "code",
   "execution_count": 6,
   "metadata": {},
   "outputs": [],
   "source": [
    "df = df.select(F.lower(col('dept_division')).alias('dept_division'), \n",
    "          F.lower(col('service_request_type')).alias('request_type'),\n",
    "          F.lower(col('dept_name')).alias('dept_name'),\n",
    "          F.lower(col('standardized_dept_name')).alias('dept_name_std'),\n",
    "          (col('case_closed')=='YES').alias('case_closed'),\n",
    "          F.when(col('case_late')=='YES', 1).otherwise(0).alias('target'),\n",
    "          (col('dept_subject_to_SLA')=='YES').alias('dept_w_SLA'),\n",
    "          F.round(col('num_days_late').cast(DoubleType()), 2).alias('days_late'),\n",
    "          F.round(col('SLA_days').cast(DoubleType()), 2).alias('SLA_days'),\n",
    "          F.regexp_extract(col('request_address'),\"(\\d{5})$\", 1).\\\n",
    "               alias(\"request_address_zip\")\n",
    "         )"
   ]
  },
  {
   "cell_type": "markdown",
   "metadata": {},
   "source": [
    "### Don't want to use both dept_name and dept_name_std \n",
    "So let's look at unique values to see which is more cleaned up."
   ]
  },
  {
   "cell_type": "code",
   "execution_count": 7,
   "metadata": {},
   "outputs": [
    {
     "data": {
      "text/html": [
       "<div>\n",
       "<style scoped>\n",
       "    .dataframe tbody tr th:only-of-type {\n",
       "        vertical-align: middle;\n",
       "    }\n",
       "\n",
       "    .dataframe tbody tr th {\n",
       "        vertical-align: top;\n",
       "    }\n",
       "\n",
       "    .dataframe thead th {\n",
       "        text-align: right;\n",
       "    }\n",
       "</style>\n",
       "<table border=\"1\" class=\"dataframe\">\n",
       "  <thead>\n",
       "    <tr style=\"text-align: right;\">\n",
       "      <th></th>\n",
       "      <th>0</th>\n",
       "    </tr>\n",
       "  </thead>\n",
       "  <tbody>\n",
       "    <tr>\n",
       "      <th>count(DISTINCT dept_division)</th>\n",
       "      <td>39</td>\n",
       "    </tr>\n",
       "    <tr>\n",
       "      <th>count(DISTINCT dept_name)</th>\n",
       "      <td>9</td>\n",
       "    </tr>\n",
       "    <tr>\n",
       "      <th>count(DISTINCT dept_name_std)</th>\n",
       "      <td>8</td>\n",
       "    </tr>\n",
       "    <tr>\n",
       "      <th>count(DISTINCT request_type)</th>\n",
       "      <td>334</td>\n",
       "    </tr>\n",
       "  </tbody>\n",
       "</table>\n",
       "</div>"
      ],
      "text/plain": [
       "                                 0\n",
       "count(DISTINCT dept_division)   39\n",
       "count(DISTINCT dept_name)        9\n",
       "count(DISTINCT dept_name_std)    8\n",
       "count(DISTINCT request_type)   334"
      ]
     },
     "execution_count": 7,
     "metadata": {},
     "output_type": "execute_result"
    }
   ],
   "source": [
    "df.select(F.countDistinct('dept_division'), \n",
    "          F.countDistinct('dept_name'),\n",
    "          F.countDistinct('dept_name_std'),\n",
    "          F.countDistinct('request_type')).\\\n",
    "          toPandas().transpose()"
   ]
  },
  {
   "cell_type": "markdown",
   "metadata": {},
   "source": [
    "### Using the standardized department name, given it has fewer distinct values"
   ]
  },
  {
   "cell_type": "code",
   "execution_count": 8,
   "metadata": {},
   "outputs": [],
   "source": [
    "df = df.drop('dept_name')"
   ]
  },
  {
   "cell_type": "markdown",
   "metadata": {},
   "source": [
    "### Preprocess the modeling data.\n",
    "### Using the SQLTransformer to filter out rows that don't apply\n",
    "`__THIS__` is a placeholder for the DataFrame passed into the transform method."
   ]
  },
  {
   "cell_type": "code",
   "execution_count": 9,
   "metadata": {},
   "outputs": [],
   "source": [
    "from pyspark.ml.feature import SQLTransformer\n",
    "\n",
    "filterer = SQLTransformer(\n",
    "    statement=\"SELECT * FROM __THIS__ WHERE dept_w_SLA AND case_closed\")\n",
    "\n",
    "filtered = filterer.transform(df)"
   ]
  },
  {
   "cell_type": "markdown",
   "metadata": {},
   "source": [
    "### Generate label\n",
    "### We can treat `target_var` as a continuous numerical label or an ordered categorical label"
   ]
  },
  {
   "cell_type": "code",
   "execution_count": 10,
   "metadata": {},
   "outputs": [
    {
     "name": "stdout",
     "output_type": "stream",
     "text": [
      "+------+------+\n",
      "|target| count|\n",
      "+------+------+\n",
      "|     0|735612|\n",
      "|     1| 87978|\n",
      "+------+------+\n",
      "\n"
     ]
    }
   ],
   "source": [
    "filtered.\\\n",
    "    groupBy('target').\\\n",
    "    count().orderBy('target').show()"
   ]
  },
  {
   "cell_type": "code",
   "execution_count": 11,
   "metadata": {},
   "outputs": [
    {
     "name": "stdout",
     "output_type": "stream",
     "text": [
      "root\n",
      " |-- dept_division: string (nullable = true)\n",
      " |-- request_type: string (nullable = true)\n",
      " |-- dept_name_std: string (nullable = true)\n",
      " |-- case_closed: boolean (nullable = true)\n",
      " |-- target: integer (nullable = false)\n",
      " |-- dept_w_SLA: boolean (nullable = true)\n",
      " |-- days_late: double (nullable = true)\n",
      " |-- SLA_days: double (nullable = true)\n",
      " |-- request_address_zip: string (nullable = true)\n",
      "\n"
     ]
    }
   ],
   "source": [
    "filtered.printSchema()"
   ]
  },
  {
   "cell_type": "markdown",
   "metadata": {},
   "source": [
    "### Extract, transform, and select features\n",
    "### Create function to explore features"
   ]
  },
  {
   "cell_type": "code",
   "execution_count": 12,
   "metadata": {},
   "outputs": [],
   "source": [
    "def explore(df, target, cont1, cont2):\n",
    "    from pyspark.sql.functions import count, mean, corr\n",
    "    aggregated = (df.groupby(target).agg(count(cont1),\n",
    "                                        mean(cont1),\n",
    "                                        mean(cont2),\n",
    "                                        corr(cont1,cont2))\n",
    "                  .orderBy(target))\n",
    "    aggregated.show()"
   ]
  },
  {
   "cell_type": "code",
   "execution_count": 13,
   "metadata": {},
   "outputs": [
    {
     "name": "stdout",
     "output_type": "stream",
     "text": [
      "+------+---------------+------------------+------------------+-------------------------+\n",
      "|target|count(SLA_days)|     avg(SLA_days)|    avg(days_late)|corr(SLA_days, days_late)|\n",
      "+------+---------------+------------------+------------------+-------------------------+\n",
      "|     0|         735612| 64.44108282627009|-58.57142732854887|       -0.997626452823121|\n",
      "|     1|          87978|14.202606674396014|22.111734751869776|      0.24758733973851155|\n",
      "+------+---------------+------------------+------------------+-------------------------+\n",
      "\n"
     ]
    }
   ],
   "source": [
    "explore(filtered, 'target','SLA_days','days_late')"
   ]
  },
  {
   "cell_type": "markdown",
   "metadata": {},
   "source": [
    "The cases that are past their due date seem to have shorter SLA's"
   ]
  },
  {
   "cell_type": "code",
   "execution_count": 14,
   "metadata": {},
   "outputs": [],
   "source": [
    "sample_pdf = (filtered.select('SLA_days', 'days_late', 'target')\n",
    "              .sample(False, 0.20, 12345)\n",
    "              .toPandas())"
   ]
  },
  {
   "cell_type": "code",
   "execution_count": 15,
   "metadata": {},
   "outputs": [
    {
     "data": {
      "image/png": "[encoded data removed]",
      "text/plain": [
       "<Figure size 432x288 with 1 Axes>"
      ]
     },
     "metadata": {
      "needs_background": "light"
     },
     "output_type": "display_data"
    }
   ],
   "source": [
    "sns.scatterplot(x=sample_pdf.SLA_days, \n",
    "                y=sample_pdf.days_late,\n",
    "                hue=sample_pdf.target\n",
    "               )\n",
    "\n",
    "plt.show()"
   ]
  },
  {
   "cell_type": "markdown",
   "metadata": {},
   "source": [
    "### Indexing/Encoding dept_name_std"
   ]
  },
  {
   "cell_type": "code",
   "execution_count": 16,
   "metadata": {},
   "outputs": [
    {
     "name": "stdout",
     "output_type": "stream",
     "text": [
      "+--------------------+----------------+\n",
      "|       dept_name_std|dept_name_std_ix|\n",
      "+--------------------+----------------+\n",
      "|animal care services|             2.0|\n",
      "|trans & cap impro...|             3.0|\n",
      "|trans & cap impro...|             3.0|\n",
      "|dsd/code enforcement|             0.0|\n",
      "|animal care services|             2.0|\n",
      "+--------------------+----------------+\n",
      "only showing top 5 rows\n",
      "\n"
     ]
    }
   ],
   "source": [
    "from pyspark.ml.feature import StringIndexer\n",
    "indexer = StringIndexer(inputCol=\"dept_name_std\", outputCol=\"dept_name_std_ix\")\n",
    "indexer_model = indexer.fit(filtered)\n",
    "list(enumerate(indexer_model.labels))\n",
    "indexed = indexer_model.transform(filtered)\n",
    "indexed.select(\"dept_name_std\", \"dept_name_std_ix\").show(5)"
   ]
  },
  {
   "cell_type": "markdown",
   "metadata": {},
   "source": [
    "### Creating dummy variables through OneHotEncoderEstimator\n",
    "`cat_var1_cd` is stored as a SparseVector."
   ]
  },
  {
   "cell_type": "code",
   "execution_count": 23,
   "metadata": {},
   "outputs": [
    {
     "name": "stdout",
     "output_type": "stream",
     "text": [
      "+--------------------+----------------+----------------+\n",
      "|       dept_name_std|dept_name_std_ix|dept_name_std_cd|\n",
      "+--------------------+----------------+----------------+\n",
      "|animal care services|             2.0|   (6,[2],[1.0])|\n",
      "|trans & cap impro...|             3.0|   (6,[3],[1.0])|\n",
      "|trans & cap impro...|             3.0|   (6,[3],[1.0])|\n",
      "|dsd/code enforcement|             0.0|   (6,[0],[1.0])|\n",
      "|animal care services|             2.0|   (6,[2],[1.0])|\n",
      "+--------------------+----------------+----------------+\n",
      "only showing top 5 rows\n",
      "\n"
     ]
    }
   ],
   "source": [
    "from pyspark.ml.feature import OneHotEncoderEstimator\n",
    "encoder = OneHotEncoderEstimator(inputCols=[\"dept_name_std_ix\"], outputCols=[\"dept_name_std_cd\"])\n",
    "encoded_model = encoder.fit(indexed)\n",
    "encoded = encoded_model.transform(indexed)\n",
    "encoded.select(\"dept_name_std\", \"dept_name_std_ix\", \"dept_name_std_cd\").show(5)"
   ]
  },
  {
   "cell_type": "markdown",
   "metadata": {},
   "source": [
    "### Now we can (manually) select our features and label"
   ]
  },
  {
   "cell_type": "code",
   "execution_count": 30,
   "metadata": {},
   "outputs": [],
   "source": [
    "selected = encoded.select(\"SLA_days\", \"dept_name_std_cd\", \"target\")\n",
    "features = [\"SLA_days\", \"dept_name_std_cd\"]"
   ]
  },
  {
   "cell_type": "markdown",
   "metadata": {},
   "source": [
    "### The machine learning algorithms in Spark MLlib expect the features to be collected into a single column, so we use VectorAssembler to assemble our feature vector\n",
    "`features` is stored as a SparseVector"
   ]
  },
  {
   "cell_type": "code",
   "execution_count": 31,
   "metadata": {},
   "outputs": [
    {
     "data": {
      "text/plain": [
       "[Row(SLA_days=999.0, dept_name_std_cd=SparseVector(6, {2: 1.0}), target=0, features=SparseVector(7, {0: 999.0, 3: 1.0})),\n",
       " Row(SLA_days=4.32, dept_name_std_cd=SparseVector(6, {3: 1.0}), target=0, features=SparseVector(7, {0: 4.32, 4: 1.0})),\n",
       " Row(SLA_days=4.32, dept_name_std_cd=SparseVector(6, {3: 1.0}), target=0, features=SparseVector(7, {0: 4.32, 4: 1.0})),\n",
       " Row(SLA_days=16.29, dept_name_std_cd=SparseVector(6, {0: 1.0}), target=0, features=SparseVector(7, {0: 16.29, 1: 1.0})),\n",
       " Row(SLA_days=0.13, dept_name_std_cd=SparseVector(6, {2: 1.0}), target=1, features=SparseVector(7, {0: 0.13, 3: 1.0}))]"
      ]
     },
     "execution_count": 31,
     "metadata": {},
     "output_type": "execute_result"
    }
   ],
   "source": [
    "from pyspark.ml.feature import VectorAssembler\n",
    "assembler = VectorAssembler(inputCols=features, outputCol=\"features\")\n",
    "assembled = assembler.transform(selected)\n",
    "assembled.head(5)"
   ]
  },
  {
   "cell_type": "markdown",
   "metadata": {},
   "source": [
    "### Save data for subsequent models"
   ]
  },
  {
   "cell_type": "code",
   "execution_count": 32,
   "metadata": {},
   "outputs": [],
   "source": [
    "assembled.write.parquet(\"sa311/assembled\", mode=\"overwrite\")"
   ]
  },
  {
   "cell_type": "markdown",
   "metadata": {},
   "source": [
    "### Creating train and test sets\n",
    "### Model will be fit to the train DataFrame then be evaluated on the test DataFrame\n",
    "Weights must be Doubles type."
   ]
  },
  {
   "cell_type": "code",
   "execution_count": 35,
   "metadata": {},
   "outputs": [],
   "source": [
    "train, test = assembled.randomSplit([0.7, 0.3], 12345)"
   ]
  },
  {
   "cell_type": "markdown",
   "metadata": {},
   "source": [
    "### Specify a logistic regression model\n",
    "### Use the LogisticRegression class to specify a logistic regression model\n",
    "featureCol is only one column, hence why we put the features into one vector. Same with target."
   ]
  },
  {
   "cell_type": "code",
   "execution_count": 37,
   "metadata": {},
   "outputs": [],
   "source": [
    "from pyspark.ml.classification import LogisticRegression\n",
    "log_reg = LogisticRegression(featuresCol=\"features\", labelCol=\"target\")"
   ]
  },
  {
   "cell_type": "markdown",
   "metadata": {},
   "source": [
    "### Use the `explainParams` method to get a full list of hyperparameters"
   ]
  },
  {
   "cell_type": "code",
   "execution_count": 38,
   "metadata": {},
   "outputs": [
    {
     "name": "stdout",
     "output_type": "stream",
     "text": [
      "aggregationDepth: suggested depth for treeAggregate (>= 2). (default: 2)\n",
      "elasticNetParam: the ElasticNet mixing parameter, in range [0, 1]. For alpha = 0, the penalty is an L2 penalty. For alpha = 1, it is an L1 penalty. (default: 0.0)\n",
      "family: The name of family which is a description of the label distribution to be used in the model. Supported options: auto, binomial, multinomial (default: auto)\n",
      "featuresCol: features column name. (default: features, current: features)\n",
      "fitIntercept: whether to fit an intercept term. (default: True)\n",
      "labelCol: label column name. (default: label, current: target)\n",
      "lowerBoundsOnCoefficients: The lower bounds on coefficients if fitting under bound constrained optimization. The bound matrix must be compatible with the shape (1, number of features) for binomial regression, or (number of classes, number of features) for multinomial regression. (undefined)\n",
      "lowerBoundsOnIntercepts: The lower bounds on intercepts if fitting under bound constrained optimization. The bounds vector size must beequal with 1 for binomial regression, or the number oflasses for multinomial regression. (undefined)\n",
      "maxIter: max number of iterations (>= 0). (default: 100)\n",
      "predictionCol: prediction column name. (default: prediction)\n",
      "probabilityCol: Column name for predicted class conditional probabilities. Note: Not all models output well-calibrated probability estimates! These probabilities should be treated as confidences, not precise probabilities. (default: probability)\n",
      "rawPredictionCol: raw prediction (a.k.a. confidence) column name. (default: rawPrediction)\n",
      "regParam: regularization parameter (>= 0). (default: 0.0)\n",
      "standardization: whether to standardize the training features before fitting the model. (default: True)\n",
      "threshold: Threshold in binary classification prediction, in range [0, 1]. If threshold and thresholds are both set, they must match.e.g. if threshold is p, then thresholds must be equal to [1-p, p]. (default: 0.5)\n",
      "thresholds: Thresholds in multi-class classification to adjust the probability of predicting each class. Array must have length equal to the number of classes, with values > 0, excepting that at most one value may be 0. The class with largest value p/t is predicted, where p is the original probability of that class and t is the class's threshold. (undefined)\n",
      "tol: the convergence tolerance for iterative algorithms (>= 0). (default: 1e-06)\n",
      "upperBoundsOnCoefficients: The upper bounds on coefficients if fitting under bound constrained optimization. The bound matrix must be compatible with the shape (1, number of features) for binomial regression, or (number of classes, number of features) for multinomial regression. (undefined)\n",
      "upperBoundsOnIntercepts: The upper bounds on intercepts if fitting under bound constrained optimization. The bound vector size must be equal with 1 for binomial regression, or the number of classes for multinomial regression. (undefined)\n",
      "weightCol: weight column name. If this is not set or empty, we treat all instance weights as 1.0. (undefined)\n"
     ]
    }
   ],
   "source": [
    "print(log_reg.explainParams())"
   ]
  },
  {
   "cell_type": "markdown",
   "metadata": {},
   "source": [
    "### Fit the logistic regression model\n",
    "### Use the fit method to fit the logistic regression model on the train DataFrame"
   ]
  },
  {
   "cell_type": "code",
   "execution_count": 39,
   "metadata": {},
   "outputs": [],
   "source": [
    "log_reg_model = log_reg.fit(train)"
   ]
  },
  {
   "cell_type": "markdown",
   "metadata": {},
   "source": [
    "### The result is an instance of the LogisticRegressionModel class"
   ]
  },
  {
   "cell_type": "code",
   "execution_count": 43,
   "metadata": {},
   "outputs": [
    {
     "data": {
      "text/plain": [
       "pyspark.ml.classification.LogisticRegressionModel"
      ]
     },
     "execution_count": 43,
     "metadata": {},
     "output_type": "execute_result"
    }
   ],
   "source": [
    "type(log_reg_model)"
   ]
  },
  {
   "cell_type": "markdown",
   "metadata": {},
   "source": [
    "### The model parameters are stored in the intercept and coefficients attributes"
   ]
  },
  {
   "cell_type": "code",
   "execution_count": 44,
   "metadata": {},
   "outputs": [
    {
     "data": {
      "text/plain": [
       "0.3287143767950738"
      ]
     },
     "execution_count": 44,
     "metadata": {},
     "output_type": "execute_result"
    }
   ],
   "source": [
    "log_reg_model.intercept"
   ]
  },
  {
   "cell_type": "code",
   "execution_count": 49,
   "metadata": {},
   "outputs": [
    {
     "data": {
      "text/plain": [
       "DenseVector([-0.0148, -2.195, -2.2715, -1.3328, -2.8929, -1.6286, -1.8126])"
      ]
     },
     "execution_count": 49,
     "metadata": {},
     "output_type": "execute_result"
    }
   ],
   "source": [
    "log_reg_model.coefficients"
   ]
  },
  {
   "cell_type": "markdown",
   "metadata": {},
   "source": [
    "### The summary attribute is an instance of the `BinaryLogisticRegressionTrainingSummary` class"
   ]
  },
  {
   "cell_type": "code",
   "execution_count": 51,
   "metadata": {},
   "outputs": [
    {
     "data": {
      "text/plain": [
       "pyspark.ml.classification.BinaryLogisticRegressionTrainingSummary"
      ]
     },
     "execution_count": 51,
     "metadata": {},
     "output_type": "execute_result"
    }
   ],
   "source": [
    "type(log_reg_model.summary)"
   ]
  },
  {
   "cell_type": "markdown",
   "metadata": {},
   "source": [
    "### We can query the iteration history:"
   ]
  },
  {
   "cell_type": "code",
   "execution_count": 52,
   "metadata": {},
   "outputs": [
    {
     "data": {
      "text/plain": [
       "28"
      ]
     },
     "execution_count": 52,
     "metadata": {},
     "output_type": "execute_result"
    }
   ],
   "source": [
    "log_reg_model.summary.totalIterations"
   ]
  },
  {
   "cell_type": "code",
   "execution_count": 53,
   "metadata": {},
   "outputs": [
    {
     "data": {
      "text/plain": [
       "[0.3398522374414734,\n",
       " 0.3340295527680015,\n",
       " 0.3227611580762015,\n",
       " 0.3209154175447656,\n",
       " 0.3202449230605207,\n",
       " 0.31981334158897606,\n",
       " 0.3189923289886126,\n",
       " 0.3186976460855554,\n",
       " 0.3178598692587781,\n",
       " 0.3173426275244338,\n",
       " 0.31707996920672843,\n",
       " 0.3170452016045578,\n",
       " 0.3169590164695488,\n",
       " 0.31694493835389326,\n",
       " 0.3169270284273817,\n",
       " 0.31683676838640057,\n",
       " 0.31668267164653585,\n",
       " 0.3163921118006834,\n",
       " 0.3161736615320396,\n",
       " 0.31612058604847154,\n",
       " 0.3160523873449194,\n",
       " 0.31604932297074223,\n",
       " 0.3160492512856409,\n",
       " 0.3160492494496807,\n",
       " 0.31604924934195466,\n",
       " 0.31604924932930817,\n",
       " 0.31604924932472284,\n",
       " 0.3160492493225822]"
      ]
     },
     "execution_count": 53,
     "metadata": {},
     "output_type": "execute_result"
    }
   ],
   "source": [
    "log_reg_model.summary.objectiveHistory"
   ]
  },
  {
   "cell_type": "markdown",
   "metadata": {},
   "source": [
    "### And plot it too"
   ]
  },
  {
   "cell_type": "code",
   "execution_count": 54,
   "metadata": {},
   "outputs": [
    {
     "data": {
      "image/png": "[encoded data removed]",
      "text/plain": [
       "<Figure size 432x288 with 1 Axes>"
      ]
     },
     "metadata": {
      "needs_background": "light"
     },
     "output_type": "display_data"
    }
   ],
   "source": [
    "def plot_iterations(summary):\n",
    "    plt.plot(summary.objectiveHistory)\n",
    "    plt.title(\"Training Summary\")\n",
    "    plt.xlabel(\"Iteration\")\n",
    "    plt.ylabel(\"Objective Function\")\n",
    "    plt.show()\n",
    "    \n",
    "plot_iterations(log_reg_model.summary)"
   ]
  },
  {
   "cell_type": "markdown",
   "metadata": {},
   "source": [
    "### The AUC-ROC Curve\n",
    "AUC: Area Under The Curve\n",
    "\n",
    "ROC: Receiver Operating Characteristics\n",
    "\n",
    "TPR: True Positive Rate\n",
    "\n",
    "FPR: False Positive Rate"
   ]
  },
  {
   "cell_type": "markdown",
   "metadata": {},
   "source": [
    "### Query the area under the ROC curve to measure the model's performance"
   ]
  },
  {
   "cell_type": "code",
   "execution_count": 55,
   "metadata": {},
   "outputs": [
    {
     "data": {
      "text/plain": [
       "0.6693248796679715"
      ]
     },
     "execution_count": 55,
     "metadata": {},
     "output_type": "execute_result"
    }
   ],
   "source": [
    "log_reg_model.summary.areaUnderROC"
   ]
  },
  {
   "cell_type": "markdown",
   "metadata": {},
   "source": [
    "### And plot the ROC curve"
   ]
  },
  {
   "cell_type": "code",
   "execution_count": 56,
   "metadata": {},
   "outputs": [
    {
     "name": "stdout",
     "output_type": "stream",
     "text": [
      "+--------------------+-------------------+\n",
      "|                 FPR|                TPR|\n",
      "+--------------------+-------------------+\n",
      "|                 0.0|                0.0|\n",
      "|6.567149099542826E-4|0.00964833915373995|\n",
      "| 0.09276583838984384|0.27416551612117274|\n",
      "| 0.09325740310054927|0.27559489969950457|\n",
      "| 0.09465826537888371| 0.2790384146836677|\n",
      "+--------------------+-------------------+\n",
      "only showing top 5 rows\n",
      "\n"
     ]
    }
   ],
   "source": [
    "log_reg_model.summary.roc.show(5)"
   ]
  },
  {
   "cell_type": "code",
   "execution_count": 57,
   "metadata": {},
   "outputs": [
    {
     "data": {
      "image/png": "[encoded data removed]",
      "text/plain": [
       "<Figure size 432x288 with 1 Axes>"
      ]
     },
     "metadata": {
      "needs_background": "light"
     },
     "output_type": "display_data"
    }
   ],
   "source": [
    "def plot_roc_curve(summary):\n",
    "    roc_curve = summary.roc.toPandas()\n",
    "    plt.plot(roc_curve[\"FPR\"], roc_curve[\"FPR\"], \"k\")\n",
    "    plt.plot(roc_curve[\"FPR\"], roc_curve[\"TPR\"])\n",
    "    plt.title(\"ROC Area: %s\" % summary.areaUnderROC)\n",
    "    plt.xlabel(\"False Positive Rate\")\n",
    "    plt.ylabel(\"True Positive Rate\")\n",
    "    plt.show()\n",
    "    \n",
    "plot_roc_curve(log_reg_model.summary)"
   ]
  },
  {
   "cell_type": "markdown",
   "metadata": {},
   "source": [
    "### Evaluate model performance on the test set.\n",
    "### We have been assessing the model performance on the train DataFrame. We really want to assess it on the test DataFrame.\n",
    "\n",
    "### Method 1: Use the evaluate method of the LogisticRegressionModel class"
   ]
  },
  {
   "cell_type": "code",
   "execution_count": 58,
   "metadata": {},
   "outputs": [],
   "source": [
    "test_summary = log_reg_model.evaluate(test)"
   ]
  },
  {
   "cell_type": "markdown",
   "metadata": {},
   "source": [
    "### The result is an instance of the BinaryLogisticRegressionSummary class"
   ]
  },
  {
   "cell_type": "code",
   "execution_count": 59,
   "metadata": {},
   "outputs": [
    {
     "data": {
      "text/plain": [
       "pyspark.ml.classification.BinaryLogisticRegressionSummary"
      ]
     },
     "execution_count": 59,
     "metadata": {},
     "output_type": "execute_result"
    }
   ],
   "source": [
    "type(test_summary)"
   ]
  },
  {
   "cell_type": "markdown",
   "metadata": {},
   "source": [
    "### It has attributes similar to those of the BinaryLogisticRegressionTrainingSummary class"
   ]
  },
  {
   "cell_type": "code",
   "execution_count": 60,
   "metadata": {},
   "outputs": [
    {
     "data": {
      "image/png": "[encoded data removed]",
      "text/plain": [
       "<Figure size 432x288 with 1 Axes>"
      ]
     },
     "metadata": {
      "needs_background": "light"
     },
     "output_type": "display_data"
    }
   ],
   "source": [
    "test_summary.areaUnderROC\n",
    "plot_roc_curve(test_summary)"
   ]
  },
  {
   "cell_type": "markdown",
   "metadata": {},
   "source": [
    "### Method 2: Use the evaluate method of the BinaryClassificationEvaluator class.\n",
    "\n",
    "### Generate predictions on the test DataFrame:"
   ]
  },
  {
   "cell_type": "code",
   "execution_count": 61,
   "metadata": {},
   "outputs": [
    {
     "name": "stdout",
     "output_type": "stream",
     "text": [
      "+--------+----------------+------+--------------------+--------------------+--------------------+----------+\n",
      "|SLA_days|dept_name_std_cd|target|            features|       rawPrediction|         probability|prediction|\n",
      "+--------+----------------+------+--------------------+--------------------+--------------------+----------+\n",
      "|    0.13|   (6,[2],[1.0])|     0|(7,[0,3],[0.13,1.0])|[1.00601881048566...|[0.73224030160843...|       0.0|\n",
      "|    0.13|   (6,[2],[1.0])|     0|(7,[0,3],[0.13,1.0])|[1.00601881048566...|[0.73224030160843...|       0.0|\n",
      "|    0.13|   (6,[2],[1.0])|     0|(7,[0,3],[0.13,1.0])|[1.00601881048566...|[0.73224030160843...|       0.0|\n",
      "|    0.13|   (6,[2],[1.0])|     0|(7,[0,3],[0.13,1.0])|[1.00601881048566...|[0.73224030160843...|       0.0|\n",
      "|    0.13|   (6,[2],[1.0])|     0|(7,[0,3],[0.13,1.0])|[1.00601881048566...|[0.73224030160843...|       0.0|\n",
      "+--------+----------------+------+--------------------+--------------------+--------------------+----------+\n",
      "only showing top 5 rows\n",
      "\n"
     ]
    }
   ],
   "source": [
    "test_with_prediction = log_reg_model.transform(test)\n",
    "test_with_prediction.show(5)"
   ]
  },
  {
   "cell_type": "markdown",
   "metadata": {},
   "source": [
    "### The resulting DataFrame includes three types of predictions. \n",
    "The `rawPrediction` is a vector of log-odds, `probability` is a vector of probabilities, and `prediction` is the predicted class based on the probability vector."
   ]
  },
  {
   "cell_type": "markdown",
   "metadata": {},
   "source": [
    "# Exercises\n",
    "\n",
    "1. Determine if request_address_zip is a promising feature.\n",
    "\n",
    "1. Reassemble the feature vector and include request_address_zip.\n",
    "\n",
    "1. Create new train and test datasets.\n",
    "\n",
    "1. Refit the logistic regression model on the train dataset.\n",
    "\n",
    "1. Apply the refit logistic model to the test dataset.\n",
    "\n",
    "1. Compute the AUC on the test dataset."
   ]
  },
  {
   "cell_type": "markdown",
   "metadata": {},
   "source": [
    "##### Determine if request_address_zip is a promising feature.\n",
    "It looks like it can be."
   ]
  },
  {
   "cell_type": "code",
   "execution_count": 76,
   "metadata": {},
   "outputs": [
    {
     "name": "stdout",
     "output_type": "stream",
     "text": [
      "root\n",
      " |-- dept_division: string (nullable = true)\n",
      " |-- request_type: string (nullable = true)\n",
      " |-- dept_name_std: string (nullable = true)\n",
      " |-- case_closed: boolean (nullable = true)\n",
      " |-- target: integer (nullable = false)\n",
      " |-- dept_w_SLA: boolean (nullable = true)\n",
      " |-- days_late: double (nullable = true)\n",
      " |-- SLA_days: double (nullable = true)\n",
      " |-- request_address_zip: string (nullable = true)\n",
      "\n"
     ]
    }
   ],
   "source": [
    "df.printSchema()"
   ]
  },
  {
   "cell_type": "code",
   "execution_count": 80,
   "metadata": {},
   "outputs": [
    {
     "name": "stdout",
     "output_type": "stream",
     "text": [
      "+-------------------+-------------------+--------------------------+\n",
      "|request_address_zip|        avg(target)|count(request_address_zip)|\n",
      "+-------------------+-------------------+--------------------------+\n",
      "|              78112|0.35526315789473684|                       152|\n",
      "|              78073| 0.2881944444444444|                       288|\n",
      "|              78109| 0.2673758865248227|                      1410|\n",
      "|              78243|               0.25|                         4|\n",
      "|              78264|0.22344322344322345|                       273|\n",
      "|              78261|0.21212121212121213|                        33|\n",
      "|              78239|0.20076849183477424|                      2082|\n",
      "|              78244|0.18505338078291814|                      5339|\n",
      "|              78253| 0.1840607210626186|                       527|\n",
      "|              78101|0.18181818181818182|                        11|\n",
      "|              78257|0.17199558985667035|                       907|\n",
      "|              78023|0.17099697885196374|                      1655|\n",
      "|              78250|0.16756855911217097|                     21806|\n",
      "|              78263|0.16666666666666666|                        30|\n",
      "|              78254|  0.152676399026764|                      6576|\n",
      "|              78256| 0.1488970588235294|                      1088|\n",
      "|              78220|0.14857656577764458|                     16685|\n",
      "|              78260| 0.1484593837535014|                       357|\n",
      "|              78219|0.14794841735052755|                      4265|\n",
      "|              78240| 0.1449186636347735|                     11434|\n",
      "+-------------------+-------------------+--------------------------+\n",
      "only showing top 20 rows\n",
      "\n"
     ]
    }
   ],
   "source": [
    "(df.select('request_address_zip', 'target')\n",
    " .groupBy('request_address_zip')\n",
    " .agg(F.mean('target'), F.count('request_address_zip'))\n",
    " .orderBy('avg(target)', ascending=False)\n",
    " .show())"
   ]
  },
  {
   "cell_type": "code",
   "execution_count": 106,
   "metadata": {},
   "outputs": [],
   "source": [
    "pdf = (df.select(col('request_address_zip').alias('zip'), 'target')\n",
    " .groupBy('zip')\n",
    " .agg(F.mean('target').alias('average'), F.count('zip').alias('count'))\n",
    " .toPandas())"
   ]
  },
  {
   "cell_type": "code",
   "execution_count": 107,
   "metadata": {},
   "outputs": [
    {
     "data": {
      "text/html": [
       "<div>\n",
       "<style scoped>\n",
       "    .dataframe tbody tr th:only-of-type {\n",
       "        vertical-align: middle;\n",
       "    }\n",
       "\n",
       "    .dataframe tbody tr th {\n",
       "        vertical-align: top;\n",
       "    }\n",
       "\n",
       "    .dataframe thead th {\n",
       "        text-align: right;\n",
       "    }\n",
       "</style>\n",
       "<table border=\"1\" class=\"dataframe\">\n",
       "  <thead>\n",
       "    <tr style=\"text-align: right;\">\n",
       "      <th></th>\n",
       "      <th>zip</th>\n",
       "      <th>average</th>\n",
       "      <th>count</th>\n",
       "    </tr>\n",
       "  </thead>\n",
       "  <tbody>\n",
       "    <tr>\n",
       "      <th>0</th>\n",
       "      <td>78073</td>\n",
       "      <td>0.288194</td>\n",
       "      <td>288</td>\n",
       "    </tr>\n",
       "    <tr>\n",
       "      <th>1</th>\n",
       "      <td>78211</td>\n",
       "      <td>0.130609</td>\n",
       "      <td>20481</td>\n",
       "    </tr>\n",
       "    <tr>\n",
       "      <th>2</th>\n",
       "      <td>78228</td>\n",
       "      <td>0.127741</td>\n",
       "      <td>37709</td>\n",
       "    </tr>\n",
       "    <tr>\n",
       "      <th>3</th>\n",
       "      <td>78254</td>\n",
       "      <td>0.152676</td>\n",
       "      <td>6576</td>\n",
       "    </tr>\n",
       "    <tr>\n",
       "      <th>4</th>\n",
       "      <td>78223</td>\n",
       "      <td>0.131154</td>\n",
       "      <td>26099</td>\n",
       "    </tr>\n",
       "  </tbody>\n",
       "</table>\n",
       "</div>"
      ],
      "text/plain": [
       "     zip   average  count\n",
       "0  78073  0.288194    288\n",
       "1  78211  0.130609  20481\n",
       "2  78228  0.127741  37709\n",
       "3  78254  0.152676   6576\n",
       "4  78223  0.131154  26099"
      ]
     },
     "execution_count": 107,
     "metadata": {},
     "output_type": "execute_result"
    }
   ],
   "source": [
    "pdf.head()"
   ]
  },
  {
   "cell_type": "code",
   "execution_count": 125,
   "metadata": {},
   "outputs": [
    {
     "data": {
      "image/png": "[encoded data removed]",
      "text/plain": [
       "<Figure size 432x288 with 1 Axes>"
      ]
     },
     "metadata": {
      "needs_background": "light"
     },
     "output_type": "display_data"
    }
   ],
   "source": [
    "plt.hist(pdf.average)\n",
    "plt.title('Distribution of the Average Proportion of Late Requests For Zipcodes')\n",
    "plt.show()"
   ]
  },
  {
   "cell_type": "markdown",
   "metadata": {},
   "source": [
    "##### Reassemble the feature vector and include request_address_zip."
   ]
  },
  {
   "cell_type": "markdown",
   "metadata": {},
   "source": [
    "Replacing empty strings in zip with 'no_zipcode'."
   ]
  },
  {
   "cell_type": "code",
   "execution_count": null,
   "metadata": {},
   "outputs": [],
   "source": [
    "filtered = (filtered.withColumn('request_address_zip', \n",
    "                     F.when(col('request_address_zip') == '', 'no_zipcode')\n",
    "                     .otherwise(col('request_address_zip'))))"
   ]
  },
  {
   "cell_type": "code",
   "execution_count": 150,
   "metadata": {},
   "outputs": [
    {
     "name": "stdout",
     "output_type": "stream",
     "text": [
      "root\n",
      " |-- dept_division: string (nullable = true)\n",
      " |-- request_type: string (nullable = true)\n",
      " |-- dept_name_std: string (nullable = true)\n",
      " |-- case_closed: boolean (nullable = true)\n",
      " |-- target: integer (nullable = false)\n",
      " |-- dept_w_SLA: boolean (nullable = true)\n",
      " |-- days_late: double (nullable = true)\n",
      " |-- SLA_days: double (nullable = true)\n",
      " |-- request_address_zip: string (nullable = true)\n",
      "\n"
     ]
    }
   ],
   "source": [
    "filtered.printSchema()"
   ]
  },
  {
   "cell_type": "markdown",
   "metadata": {},
   "source": [
    "Indexing all the different strings in the zip column."
   ]
  },
  {
   "cell_type": "code",
   "execution_count": 151,
   "metadata": {},
   "outputs": [
    {
     "name": "stdout",
     "output_type": "stream",
     "text": [
      "+-------------------+-----------------------+\n",
      "|request_address_zip|request_address_zip_idx|\n",
      "+-------------------+-----------------------+\n",
      "|              78207|                    1.0|\n",
      "|              78223|                    8.0|\n",
      "|              78223|                    8.0|\n",
      "|              78223|                    8.0|\n",
      "|              78228|                    2.0|\n",
      "|         no_zipcode|                    0.0|\n",
      "|              78251|                    4.0|\n",
      "|              78251|                    4.0|\n",
      "|              78251|                    4.0|\n",
      "|              78251|                    4.0|\n",
      "|              78251|                    4.0|\n",
      "|              78251|                    4.0|\n",
      "|              78251|                    4.0|\n",
      "|              78251|                    4.0|\n",
      "|              78251|                    4.0|\n",
      "|              78251|                    4.0|\n",
      "|              78251|                    4.0|\n",
      "|              78251|                    4.0|\n",
      "|              78251|                    4.0|\n",
      "|              78251|                    4.0|\n",
      "+-------------------+-----------------------+\n",
      "only showing top 20 rows\n",
      "\n"
     ]
    }
   ],
   "source": [
    "indexer = StringIndexer(inputCol='request_address_zip',\n",
    "                        outputCol='request_address_zip_idx')\n",
    "indexer_model = indexer.fit(filtered)\n",
    "indexed = indexer_model.transform(filtered)\n",
    "indexed.select('request_address_zip', 'request_address_zip_idx').show()"
   ]
  },
  {
   "cell_type": "markdown",
   "metadata": {},
   "source": [
    "Same for the dept_name column."
   ]
  },
  {
   "cell_type": "code",
   "execution_count": 153,
   "metadata": {},
   "outputs": [
    {
     "name": "stdout",
     "output_type": "stream",
     "text": [
      "+-------------------+-----------------------+\n",
      "|request_address_zip|request_address_zip_idx|\n",
      "+-------------------+-----------------------+\n",
      "|              78207|                    1.0|\n",
      "|              78223|                    8.0|\n",
      "|              78223|                    8.0|\n",
      "|              78223|                    8.0|\n",
      "|              78228|                    2.0|\n",
      "|         no_zipcode|                    0.0|\n",
      "|              78251|                    4.0|\n",
      "|              78251|                    4.0|\n",
      "|              78251|                    4.0|\n",
      "|              78251|                    4.0|\n",
      "|              78251|                    4.0|\n",
      "|              78251|                    4.0|\n",
      "|              78251|                    4.0|\n",
      "|              78251|                    4.0|\n",
      "|              78251|                    4.0|\n",
      "|              78251|                    4.0|\n",
      "|              78251|                    4.0|\n",
      "|              78251|                    4.0|\n",
      "|              78251|                    4.0|\n",
      "|              78251|                    4.0|\n",
      "+-------------------+-----------------------+\n",
      "only showing top 20 rows\n",
      "\n"
     ]
    }
   ],
   "source": [
    "indexer = StringIndexer(inputCol='dept_name_std',\n",
    "                        outputCol='dept_name_std_idx')\n",
    "indexer_model = indexer.fit(indexed)\n",
    "indexed = indexer_model.transform(indexed)\n",
    "indexed.select('dept_name_std', 'dept_name_std_idx').show()"
   ]
  },
  {
   "cell_type": "code",
   "execution_count": 155,
   "metadata": {},
   "outputs": [
    {
     "name": "stdout",
     "output_type": "stream",
     "text": [
      "+----------------+--------------------+--------------------+-----------+------+----------+---------+--------+-------------------+-----------------------+-----------------+\n",
      "|   dept_division|        request_type|       dept_name_std|case_closed|target|dept_w_SLA|days_late|SLA_days|request_address_zip|request_address_zip_idx|dept_name_std_idx|\n",
      "+----------------+--------------------+--------------------+-----------+------+----------+---------+--------+-------------------+-----------------------+-----------------+\n",
      "|field operations|        stray animal|animal care services|       true|     0|      true|  -998.51|   999.0|              78207|                    1.0|              2.0|\n",
      "|     storm water|removal of obstru...|trans & cap impro...|       true|     0|      true|    -2.01|    4.32|              78223|                    8.0|              3.0|\n",
      "|     storm water|removal of obstru...|trans & cap impro...|       true|     0|      true|    -3.02|    4.32|              78223|                    8.0|              3.0|\n",
      "|code enforcement|front or side yar...|dsd/code enforcement|       true|     0|      true|   -15.01|   16.29|              78223|                    8.0|              0.0|\n",
      "|field operations|animal cruelty(cr...|animal care services|       true|     1|      true|     0.37|    0.13|              78228|                    2.0|              2.0|\n",
      "+----------------+--------------------+--------------------+-----------+------+----------+---------+--------+-------------------+-----------------------+-----------------+\n",
      "only showing top 5 rows\n",
      "\n"
     ]
    }
   ],
   "source": [
    "indexed.show(5)"
   ]
  },
  {
   "cell_type": "markdown",
   "metadata": {},
   "source": [
    "Creating dummy variables for zip_idx and dept_name_idx"
   ]
  },
  {
   "cell_type": "code",
   "execution_count": 157,
   "metadata": {},
   "outputs": [
    {
     "name": "stdout",
     "output_type": "stream",
     "text": [
      "+-----------------------+-----------------+----------------------+----------------+\n",
      "|request_address_zip_idx|dept_name_std_idx|request_address_zip_cd|dept_name_std_cd|\n",
      "+-----------------------+-----------------+----------------------+----------------+\n",
      "|                    1.0|              2.0|        (75,[1],[1.0])|   (6,[2],[1.0])|\n",
      "|                    8.0|              3.0|        (75,[8],[1.0])|   (6,[3],[1.0])|\n",
      "|                    8.0|              3.0|        (75,[8],[1.0])|   (6,[3],[1.0])|\n",
      "|                    8.0|              0.0|        (75,[8],[1.0])|   (6,[0],[1.0])|\n",
      "|                    2.0|              2.0|        (75,[2],[1.0])|   (6,[2],[1.0])|\n",
      "|                    0.0|              3.0|        (75,[0],[1.0])|   (6,[3],[1.0])|\n",
      "|                    4.0|              0.0|        (75,[4],[1.0])|   (6,[0],[1.0])|\n",
      "|                    4.0|              0.0|        (75,[4],[1.0])|   (6,[0],[1.0])|\n",
      "|                    4.0|              0.0|        (75,[4],[1.0])|   (6,[0],[1.0])|\n",
      "|                    4.0|              0.0|        (75,[4],[1.0])|   (6,[0],[1.0])|\n",
      "|                    4.0|              0.0|        (75,[4],[1.0])|   (6,[0],[1.0])|\n",
      "|                    4.0|              0.0|        (75,[4],[1.0])|   (6,[0],[1.0])|\n",
      "|                    4.0|              0.0|        (75,[4],[1.0])|   (6,[0],[1.0])|\n",
      "|                    4.0|              0.0|        (75,[4],[1.0])|   (6,[0],[1.0])|\n",
      "|                    4.0|              0.0|        (75,[4],[1.0])|   (6,[0],[1.0])|\n",
      "|                    4.0|              0.0|        (75,[4],[1.0])|   (6,[0],[1.0])|\n",
      "|                    4.0|              0.0|        (75,[4],[1.0])|   (6,[0],[1.0])|\n",
      "|                    4.0|              0.0|        (75,[4],[1.0])|   (6,[0],[1.0])|\n",
      "|                    4.0|              0.0|        (75,[4],[1.0])|   (6,[0],[1.0])|\n",
      "|                    4.0|              0.0|        (75,[4],[1.0])|   (6,[0],[1.0])|\n",
      "+-----------------------+-----------------+----------------------+----------------+\n",
      "only showing top 20 rows\n",
      "\n"
     ]
    }
   ],
   "source": [
    "encoder = (OneHotEncoderEstimator(inputCols=['request_address_zip_idx', 'dept_name_std_idx'],\n",
    "                        outputCols=['request_address_zip_cd', 'dept_name_std_cd']))\n",
    "encoder_model = encoder.fit(indexed)\n",
    "encoded = encoder_model.transform(indexed)\n",
    "(encoded.select('request_address_zip_idx', \n",
    "                'dept_name_std_idx', \n",
    "                'request_address_zip_cd', \n",
    "                'dept_name_std_cd').show())"
   ]
  },
  {
   "cell_type": "markdown",
   "metadata": {},
   "source": [
    "Selecting the x and y variables."
   ]
  },
  {
   "cell_type": "code",
   "execution_count": 158,
   "metadata": {},
   "outputs": [],
   "source": [
    "selected = encoded.select(\"SLA_days\", \"dept_name_std_cd\", 'request_address_zip_cd', \"target\")\n",
    "features = [\"SLA_days\", \"dept_name_std_cd\", 'request_address_zip_cd']"
   ]
  },
  {
   "cell_type": "markdown",
   "metadata": {},
   "source": [
    "Putting all the features together in a vector so that SparkML will be able to use it."
   ]
  },
  {
   "cell_type": "code",
   "execution_count": 160,
   "metadata": {},
   "outputs": [],
   "source": [
    "assembler = VectorAssembler(inputCols=features, outputCol='features')\n",
    "assembled = assembler.transform(selected)"
   ]
  },
  {
   "cell_type": "code",
   "execution_count": 161,
   "metadata": {},
   "outputs": [
    {
     "data": {
      "text/plain": [
       "[Row(SLA_days=999.0, dept_name_std_cd=SparseVector(6, {2: 1.0}), request_address_zip_cd=SparseVector(75, {1: 1.0}), target=0, features=SparseVector(82, {0: 999.0, 3: 1.0, 8: 1.0})),\n",
       " Row(SLA_days=4.32, dept_name_std_cd=SparseVector(6, {3: 1.0}), request_address_zip_cd=SparseVector(75, {8: 1.0}), target=0, features=SparseVector(82, {0: 4.32, 4: 1.0, 15: 1.0})),\n",
       " Row(SLA_days=4.32, dept_name_std_cd=SparseVector(6, {3: 1.0}), request_address_zip_cd=SparseVector(75, {8: 1.0}), target=0, features=SparseVector(82, {0: 4.32, 4: 1.0, 15: 1.0})),\n",
       " Row(SLA_days=16.29, dept_name_std_cd=SparseVector(6, {0: 1.0}), request_address_zip_cd=SparseVector(75, {8: 1.0}), target=0, features=SparseVector(82, {0: 16.29, 1: 1.0, 15: 1.0})),\n",
       " Row(SLA_days=0.13, dept_name_std_cd=SparseVector(6, {2: 1.0}), request_address_zip_cd=SparseVector(75, {2: 1.0}), target=1, features=SparseVector(82, {0: 0.13, 3: 1.0, 9: 1.0}))]"
      ]
     },
     "execution_count": 161,
     "metadata": {},
     "output_type": "execute_result"
    }
   ],
   "source": [
    "assembled.head(5)"
   ]
  },
  {
   "cell_type": "markdown",
   "metadata": {},
   "source": [
    "Splitting into a train and test set."
   ]
  },
  {
   "cell_type": "code",
   "execution_count": 162,
   "metadata": {},
   "outputs": [],
   "source": [
    "train, test = assembled.randomSplit([0.7, 0.3], seed=123)"
   ]
  },
  {
   "cell_type": "markdown",
   "metadata": {},
   "source": [
    "Creating a Logistic Regression model."
   ]
  },
  {
   "cell_type": "code",
   "execution_count": 163,
   "metadata": {},
   "outputs": [],
   "source": [
    "log_reg = LogisticRegression(featuresCol='features', labelCol='target')"
   ]
  },
  {
   "cell_type": "code",
   "execution_count": 165,
   "metadata": {},
   "outputs": [],
   "source": [
    "log_reg_model = log_reg.fit(train)"
   ]
  },
  {
   "cell_type": "code",
   "execution_count": 168,
   "metadata": {},
   "outputs": [
    {
     "data": {
      "text/plain": [
       "DenseVector([-0.0174, -2.059, -2.3497, -1.3696, -2.7603, -1.6598, -1.8837, 0.9678, 1.0645, 1.4354, 1.3872, 0.2166, 1.3367, 1.3919, 1.216, 1.4566, 1.348, 1.1714, 1.8219, 1.0205, 1.3203, 1.6045, 1.6873, 1.2578, 1.2128, 1.1905, 1.3905, 1.5464, 1.3059, 1.499, 1.278, 1.2922, 1.0995, 1.5951, 1.5831, 1.5029, 1.091, 1.1655, 1.1677, 1.1579, 1.3039, 1.4371, 1.6132, 1.3806, 1.2621, 1.9174, 1.4814, 1.2491, 1.5767, 1.6, 1.1089, 1.2839, 1.3243, 0.9814, 1.9846, 1.1741, 1.6897, 2.4614, 1.3456, 1.452, 1.6568, 1.6472, 1.5879, 1.3634, 2.6349, 1.8154, 1.0606, 3.0999, 1.0005, 1.7446, 2.0804, -8.3355, -8.0838, 1.3513, 1.7295, 2.3561, -10.0432, 2.0108, -9.7732, -8.27, 2.2692, -11.0692])"
      ]
     },
     "execution_count": 168,
     "metadata": {},
     "output_type": "execute_result"
    }
   ],
   "source": [
    "log_reg_model.coefficients"
   ]
  },
  {
   "cell_type": "markdown",
   "metadata": {},
   "source": [
    "Area under ROC"
   ]
  },
  {
   "cell_type": "code",
   "execution_count": 174,
   "metadata": {},
   "outputs": [
    {
     "data": {
      "text/plain": [
       "0.7155464325426154"
      ]
     },
     "execution_count": 174,
     "metadata": {},
     "output_type": "execute_result"
    }
   ],
   "source": [
    "log_reg_model.summary.areaUnderROC"
   ]
  },
  {
   "cell_type": "code",
   "execution_count": 177,
   "metadata": {},
   "outputs": [
    {
     "name": "stdout",
     "output_type": "stream",
     "text": [
      "+--------------------+--------------------+\n",
      "|                 FPR|                 TPR|\n",
      "+--------------------+--------------------+\n",
      "|                 0.0|                 0.0|\n",
      "|0.001162483282013...|0.010892326672402319|\n",
      "|0.043873052160119434| 0.14559355875525543|\n",
      "| 0.07025636838667537| 0.21763550476437835|\n",
      "| 0.08003250287704892|  0.2423420937292015|\n",
      "+--------------------+--------------------+\n",
      "only showing top 5 rows\n",
      "\n"
     ]
    }
   ],
   "source": [
    "log_reg_model.summary.roc.show(5)"
   ]
  },
  {
   "cell_type": "code",
   "execution_count": 178,
   "metadata": {},
   "outputs": [
    {
     "data": {
      "image/png": "[encoded data removed]",
      "text/plain": [
       "<Figure size 432x288 with 1 Axes>"
      ]
     },
     "metadata": {
      "needs_background": "light"
     },
     "output_type": "display_data"
    }
   ],
   "source": [
    "plot_roc_curve(log_reg_model.summary)"
   ]
  },
  {
   "cell_type": "markdown",
   "metadata": {},
   "source": [
    "Evaluating the model on the test set."
   ]
  },
  {
   "cell_type": "code",
   "execution_count": 179,
   "metadata": {},
   "outputs": [
    {
     "name": "stdout",
     "output_type": "stream",
     "text": [
      "+--------+----------------+----------------------+------+--------------------+--------------------+--------------------+----------+\n",
      "|SLA_days|dept_name_std_cd|request_address_zip_cd|target|            features|       rawPrediction|         probability|prediction|\n",
      "+--------+----------------+----------------------+------+--------------------+--------------------+--------------------+----------+\n",
      "|    0.13|   (6,[2],[1.0])|        (75,[0],[1.0])|     0|(82,[0,3,7],[0.13...|[1.32816443813510...|[0.79053684923979...|       0.0|\n",
      "|    0.13|   (6,[2],[1.0])|        (75,[0],[1.0])|     0|(82,[0,3,7],[0.13...|[1.32816443813510...|[0.79053684923979...|       0.0|\n",
      "|    0.13|   (6,[2],[1.0])|        (75,[0],[1.0])|     0|(82,[0,3,7],[0.13...|[1.32816443813510...|[0.79053684923979...|       0.0|\n",
      "|    0.13|   (6,[2],[1.0])|        (75,[0],[1.0])|     0|(82,[0,3,7],[0.13...|[1.32816443813510...|[0.79053684923979...|       0.0|\n",
      "|    0.13|   (6,[2],[1.0])|        (75,[0],[1.0])|     0|(82,[0,3,7],[0.13...|[1.32816443813510...|[0.79053684923979...|       0.0|\n",
      "+--------+----------------+----------------------+------+--------------------+--------------------+--------------------+----------+\n",
      "only showing top 5 rows\n",
      "\n"
     ]
    }
   ],
   "source": [
    "test_with_prediction = log_reg_model.transform(test)\n",
    "test_with_prediction.show(5)"
   ]
  }
 ],
 "metadata": {
  "kernelspec": {
   "display_name": "Python 3",
   "language": "python",
   "name": "python3"
  },
  "language_info": {
   "codemirror_mode": {
    "name": "ipython",
    "version": 3
   },
   "file_extension": ".py",
   "mimetype": "text/x-python",
   "name": "python",
   "nbconvert_exporter": "python",
   "pygments_lexer": "ipython3",
   "version": "3.7.1"
  }
 },
 "nbformat": 4,
 "nbformat_minor": 2
}
