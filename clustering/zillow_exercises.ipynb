{
 "cells": [
  {
   "cell_type": "code",
   "execution_count": 1,
   "metadata": {},
   "outputs": [],
   "source": [
    "%matplotlib inline\n",
    "from env import get_connection, password, host, user\n",
    "import acquire_zillow\n",
    "import acquire_mall\n",
    "import prepare_mall\n",
    "import prepare_zillow\n",
    "import explore_zillow\n",
    "import pandas as pd\n",
    "import matplotlib.pyplot as plt\n",
    "import seaborn as sns\n",
    "from scipy.stats import ttest_ind\n",
    "from sklearn.linear_model import LinearRegression\n",
    "from sklearn.metrics import mean_absolute_error, r2_score"
   ]
  },
  {
   "cell_type": "code",
   "execution_count": 2,
   "metadata": {
    "scrolled": true
   },
   "outputs": [
    {
     "name": "stderr",
     "output_type": "stream",
     "text": [
      "/usr/local/anaconda3/lib/python3.7/site-packages/IPython/core/interactiveshell.py:3020: DtypeWarning: Columns (57) have mixed types. Specify dtype option on import or set low_memory=False.\n",
      "  interactivity=interactivity, compiler=compiler, result=result)\n"
     ]
    }
   ],
   "source": [
    "properties = pd.read_csv('zillow_properties.csv', sep='\\t')"
   ]
  },
  {
   "cell_type": "code",
   "execution_count": 3,
   "metadata": {},
   "outputs": [],
   "source": [
    "properties.drop(['Unnamed: 0', 'parcelid.1'], axis=1, inplace=True)"
   ]
  },
  {
   "cell_type": "code",
   "execution_count": 4,
   "metadata": {},
   "outputs": [
    {
     "data": {
      "text/plain": [
       "(167888, 60)"
      ]
     },
     "execution_count": 4,
     "metadata": {},
     "output_type": "execute_result"
    }
   ],
   "source": [
    "properties.shape"
   ]
  },
  {
   "cell_type": "markdown",
   "metadata": {},
   "source": [
    "## Preparation Phase"
   ]
  },
  {
   "cell_type": "markdown",
   "metadata": {},
   "source": [
    "### Filling nulls with zeros. These properties were chosen because they either are binary and just didn't have 0's, or they are some type of cnt that was left blank since it was 0."
   ]
  },
  {
   "cell_type": "code",
   "execution_count": 5,
   "metadata": {},
   "outputs": [],
   "source": [
    "properties = prepare_zillow.replace_nulls_with_zeros(properties, ['hashottuborspa', 'poolcnt', 'poolsizesum', \n",
    "                                                                  'basementsqft', 'decktypeid', 'fireplacecnt',\n",
    "                                                                  'garagecarcnt'])"
   ]
  },
  {
   "cell_type": "markdown",
   "metadata": {},
   "source": [
    "### Grabbing only those properties that are single unit and have lat and lon. \n",
    "The columns that are transformed to object dtypes are chosen because they either are just simple id numbers or a binary representing yes or no."
   ]
  },
  {
   "cell_type": "code",
   "execution_count": 6,
   "metadata": {},
   "outputs": [],
   "source": [
    "properties = prepare_zillow.single_lat_lon_objects(properties, ['parcelid', 'buildingqualitytypeid', \n",
    "                                                                'decktypeid', 'fips', 'hashottuborspa', \n",
    "                                                                'pooltypeid10', 'pooltypeid2', 'pooltypeid7', \n",
    "                                                                'regionidcity', 'regionidcounty',\n",
    "                                                                'regionidneighborhood', 'regionidzip', \n",
    "                                                                'fireplaceflag'])\n"
   ]
  },
  {
   "cell_type": "code",
   "execution_count": 7,
   "metadata": {
    "scrolled": true
   },
   "outputs": [
    {
     "data": {
      "text/plain": [
       "(97618, 60)"
      ]
     },
     "execution_count": 7,
     "metadata": {},
     "output_type": "execute_result"
    }
   ],
   "source": [
    "properties.shape"
   ]
  },
  {
   "cell_type": "code",
   "execution_count": 8,
   "metadata": {},
   "outputs": [
    {
     "name": "stdout",
     "output_type": "stream",
     "text": [
      "buildingqualitytypeid has 954 missing values, accounting for 0.98% of that column.\n",
      "calculatedbathnbr has 8 missing values, accounting for 0.01% of that column.\n",
      "finishedfloor1squarefeet has 97618 missing values, accounting for 100.00% of that column.\n",
      "calculatedfinishedsquarefeet has 4 missing values, accounting for 0.00% of that column.\n",
      "finishedsquarefeet12 has 15 missing values, accounting for 0.02% of that column.\n",
      "finishedsquarefeet13 has 97618 missing values, accounting for 100.00% of that column.\n",
      "finishedsquarefeet15 has 97607 missing values, accounting for 99.99% of that column.\n",
      "finishedsquarefeet50 has 97618 missing values, accounting for 100.00% of that column.\n",
      "finishedsquarefeet6 has 97618 missing values, accounting for 100.00% of that column.\n",
      "fullbathcnt has 8 missing values, accounting for 0.01% of that column.\n",
      "garagetotalsqft has 97610 missing values, accounting for 99.99% of that column.\n",
      "lotsizesquarefeet has 2516 missing values, accounting for 2.58% of that column.\n",
      "pooltypeid10 has 97043 missing values, accounting for 99.41% of that column.\n",
      "pooltypeid2 has 97618 missing values, accounting for 100.00% of that column.\n",
      "pooltypeid7 has 74048 missing values, accounting for 75.85% of that column.\n",
      "propertyzoningdesc has 403 missing values, accounting for 0.41% of that column.\n",
      "regionidcity has 2054 missing values, accounting for 2.10% of that column.\n",
      "regionidneighborhood has 47499 missing values, accounting for 48.66% of that column.\n",
      "regionidzip has 18 missing values, accounting for 0.02% of that column.\n",
      "threequarterbathnbr has 97617 missing values, accounting for 100.00% of that column.\n",
      "yardbuildingsqft17 has 97618 missing values, accounting for 100.00% of that column.\n",
      "yardbuildingsqft26 has 97618 missing values, accounting for 100.00% of that column.\n",
      "yearbuilt has 20 missing values, accounting for 0.02% of that column.\n",
      "numberofstories has 97604 missing values, accounting for 99.99% of that column.\n",
      "fireplaceflag has 97617 missing values, accounting for 100.00% of that column.\n",
      "structuretaxvaluedollarcnt has 110 missing values, accounting for 0.11% of that column.\n",
      "taxamount has 8 missing values, accounting for 0.01% of that column.\n",
      "taxdelinquencyflag has 94021 missing values, accounting for 96.32% of that column.\n",
      "taxdelinquencyyear has 94021 missing values, accounting for 96.32% of that column.\n",
      "censustractandblock has 199 missing values, accounting for 0.20% of that column.\n",
      "airconditioningdesc has 53869 missing values, accounting for 55.18% of that column.\n",
      "architecturalstyledesc has 97617 missing values, accounting for 100.00% of that column.\n",
      "buildingclassdesc has 97618 missing values, accounting for 100.00% of that column.\n",
      "heatingorsystemdesc has 1512 missing values, accounting for 1.55% of that column.\n",
      "storydesc has 97618 missing values, accounting for 100.00% of that column.\n",
      "typeconstructiondesc has 97618 missing values, accounting for 100.00% of that column.\n"
     ]
    }
   ],
   "source": [
    "prepare_zillow.missing_vals_cols(properties)"
   ]
  },
  {
   "cell_type": "markdown",
   "metadata": {},
   "source": [
    "### Do any columns have too many NaN's to be useful?\n",
    "After looking at the print out and seeing which columns have what percentage of null values, I decide that if a column is more than 30% null, it should be dropped."
   ]
  },
  {
   "cell_type": "code",
   "execution_count": 9,
   "metadata": {
    "scrolled": true
   },
   "outputs": [],
   "source": [
    "prepare_zillow.drop_col_if_too_many_nulls(properties, .30)"
   ]
  },
  {
   "cell_type": "markdown",
   "metadata": {},
   "source": [
    "Nulls still present but not nearly as many."
   ]
  },
  {
   "cell_type": "code",
   "execution_count": 10,
   "metadata": {
    "scrolled": true
   },
   "outputs": [
    {
     "name": "stdout",
     "output_type": "stream",
     "text": [
      "buildingqualitytypeid has 954 missing values, accounting for 0.98% of that column.\n",
      "calculatedbathnbr has 8 missing values, accounting for 0.01% of that column.\n",
      "calculatedfinishedsquarefeet has 4 missing values, accounting for 0.00% of that column.\n",
      "finishedsquarefeet12 has 15 missing values, accounting for 0.02% of that column.\n",
      "fullbathcnt has 8 missing values, accounting for 0.01% of that column.\n",
      "lotsizesquarefeet has 2516 missing values, accounting for 2.58% of that column.\n",
      "propertyzoningdesc has 403 missing values, accounting for 0.41% of that column.\n",
      "regionidcity has 2054 missing values, accounting for 2.10% of that column.\n",
      "regionidzip has 18 missing values, accounting for 0.02% of that column.\n",
      "yearbuilt has 20 missing values, accounting for 0.02% of that column.\n",
      "structuretaxvaluedollarcnt has 110 missing values, accounting for 0.11% of that column.\n",
      "taxamount has 8 missing values, accounting for 0.01% of that column.\n",
      "censustractandblock has 199 missing values, accounting for 0.20% of that column.\n",
      "heatingorsystemdesc has 1512 missing values, accounting for 1.55% of that column.\n"
     ]
    }
   ],
   "source": [
    "prepare_zillow.missing_vals_cols(properties)"
   ]
  },
  {
   "cell_type": "code",
   "execution_count": 11,
   "metadata": {},
   "outputs": [
    {
     "data": {
      "text/plain": [
       "(97618, 38)"
      ]
     },
     "execution_count": 11,
     "metadata": {},
     "output_type": "execute_result"
    }
   ],
   "source": [
    "properties.shape"
   ]
  },
  {
   "cell_type": "markdown",
   "metadata": {},
   "source": [
    "### Dropping the rows with remaining null values."
   ]
  },
  {
   "cell_type": "code",
   "execution_count": 12,
   "metadata": {},
   "outputs": [],
   "source": [
    "properties.dropna(inplace=True)"
   ]
  },
  {
   "cell_type": "code",
   "execution_count": 13,
   "metadata": {},
   "outputs": [
    {
     "data": {
      "text/plain": [
       "(90578, 38)"
      ]
     },
     "execution_count": 13,
     "metadata": {},
     "output_type": "execute_result"
    }
   ],
   "source": [
    "properties.shape"
   ]
  },
  {
   "cell_type": "code",
   "execution_count": 14,
   "metadata": {},
   "outputs": [
    {
     "data": {
      "text/plain": [
       "parcelid                        0\n",
       "basementsqft                    0\n",
       "bathroomcnt                     0\n",
       "bedroomcnt                      0\n",
       "buildingqualitytypeid           0\n",
       "calculatedbathnbr               0\n",
       "decktypeid                      0\n",
       "calculatedfinishedsquarefeet    0\n",
       "finishedsquarefeet12            0\n",
       "fips                            0\n",
       "fireplacecnt                    0\n",
       "fullbathcnt                     0\n",
       "garagecarcnt                    0\n",
       "hashottuborspa                  0\n",
       "latitude                        0\n",
       "longitude                       0\n",
       "lotsizesquarefeet               0\n",
       "poolcnt                         0\n",
       "poolsizesum                     0\n",
       "propertycountylandusecode       0\n",
       "propertyzoningdesc              0\n",
       "rawcensustractandblock          0\n",
       "regionidcity                    0\n",
       "regionidcounty                  0\n",
       "regionidzip                     0\n",
       "roomcnt                         0\n",
       "unitcnt                         0\n",
       "yearbuilt                       0\n",
       "structuretaxvaluedollarcnt      0\n",
       "taxvaluedollarcnt               0\n",
       "assessmentyear                  0\n",
       "landtaxvaluedollarcnt           0\n",
       "taxamount                       0\n",
       "censustractandblock             0\n",
       "logerror                        0\n",
       "transactiondate                 0\n",
       "heatingorsystemdesc             0\n",
       "propertylandusedesc             0\n",
       "dtype: int64"
      ]
     },
     "execution_count": 14,
     "metadata": {},
     "output_type": "execute_result"
    }
   ],
   "source": [
    "properties.isna().sum()"
   ]
  },
  {
   "cell_type": "code",
   "execution_count": 15,
   "metadata": {
    "scrolled": true
   },
   "outputs": [
    {
     "data": {
      "text/html": [
       "<div>\n",
       "<style scoped>\n",
       "    .dataframe tbody tr th:only-of-type {\n",
       "        vertical-align: middle;\n",
       "    }\n",
       "\n",
       "    .dataframe tbody tr th {\n",
       "        vertical-align: top;\n",
       "    }\n",
       "\n",
       "    .dataframe thead th {\n",
       "        text-align: right;\n",
       "    }\n",
       "</style>\n",
       "<table border=\"1\" class=\"dataframe\">\n",
       "  <thead>\n",
       "    <tr style=\"text-align: right;\">\n",
       "      <th></th>\n",
       "      <th>parcelid</th>\n",
       "      <th>basementsqft</th>\n",
       "      <th>bathroomcnt</th>\n",
       "      <th>bedroomcnt</th>\n",
       "      <th>buildingqualitytypeid</th>\n",
       "      <th>calculatedbathnbr</th>\n",
       "      <th>decktypeid</th>\n",
       "      <th>calculatedfinishedsquarefeet</th>\n",
       "      <th>finishedsquarefeet12</th>\n",
       "      <th>fips</th>\n",
       "      <th>...</th>\n",
       "      <th>structuretaxvaluedollarcnt</th>\n",
       "      <th>taxvaluedollarcnt</th>\n",
       "      <th>assessmentyear</th>\n",
       "      <th>landtaxvaluedollarcnt</th>\n",
       "      <th>taxamount</th>\n",
       "      <th>censustractandblock</th>\n",
       "      <th>logerror</th>\n",
       "      <th>transactiondate</th>\n",
       "      <th>heatingorsystemdesc</th>\n",
       "      <th>propertylandusedesc</th>\n",
       "    </tr>\n",
       "  </thead>\n",
       "  <tbody>\n",
       "  </tbody>\n",
       "</table>\n",
       "<p>0 rows × 38 columns</p>\n",
       "</div>"
      ],
      "text/plain": [
       "Empty DataFrame\n",
       "Columns: [parcelid, basementsqft, bathroomcnt, bedroomcnt, buildingqualitytypeid, calculatedbathnbr, decktypeid, calculatedfinishedsquarefeet, finishedsquarefeet12, fips, fireplacecnt, fullbathcnt, garagecarcnt, hashottuborspa, latitude, longitude, lotsizesquarefeet, poolcnt, poolsizesum, propertycountylandusecode, propertyzoningdesc, rawcensustractandblock, regionidcity, regionidcounty, regionidzip, roomcnt, unitcnt, yearbuilt, structuretaxvaluedollarcnt, taxvaluedollarcnt, assessmentyear, landtaxvaluedollarcnt, taxamount, censustractandblock, logerror, transactiondate, heatingorsystemdesc, propertylandusedesc]\n",
       "Index: []\n",
       "\n",
       "[0 rows x 38 columns]"
      ]
     },
     "execution_count": 15,
     "metadata": {},
     "output_type": "execute_result"
    }
   ],
   "source": [
    "properties[properties.calculatedfinishedsquarefeet != properties.finishedsquarefeet12]"
   ]
  },
  {
   "cell_type": "code",
   "execution_count": 16,
   "metadata": {},
   "outputs": [
    {
     "data": {
      "text/html": [
       "<div>\n",
       "<style scoped>\n",
       "    .dataframe tbody tr th:only-of-type {\n",
       "        vertical-align: middle;\n",
       "    }\n",
       "\n",
       "    .dataframe tbody tr th {\n",
       "        vertical-align: top;\n",
       "    }\n",
       "\n",
       "    .dataframe thead th {\n",
       "        text-align: right;\n",
       "    }\n",
       "</style>\n",
       "<table border=\"1\" class=\"dataframe\">\n",
       "  <thead>\n",
       "    <tr style=\"text-align: right;\">\n",
       "      <th></th>\n",
       "      <th>parcelid</th>\n",
       "      <th>basementsqft</th>\n",
       "      <th>bathroomcnt</th>\n",
       "      <th>bedroomcnt</th>\n",
       "      <th>buildingqualitytypeid</th>\n",
       "      <th>calculatedbathnbr</th>\n",
       "      <th>decktypeid</th>\n",
       "      <th>calculatedfinishedsquarefeet</th>\n",
       "      <th>finishedsquarefeet12</th>\n",
       "      <th>fips</th>\n",
       "      <th>...</th>\n",
       "      <th>structuretaxvaluedollarcnt</th>\n",
       "      <th>taxvaluedollarcnt</th>\n",
       "      <th>assessmentyear</th>\n",
       "      <th>landtaxvaluedollarcnt</th>\n",
       "      <th>taxamount</th>\n",
       "      <th>censustractandblock</th>\n",
       "      <th>logerror</th>\n",
       "      <th>transactiondate</th>\n",
       "      <th>heatingorsystemdesc</th>\n",
       "      <th>propertylandusedesc</th>\n",
       "    </tr>\n",
       "  </thead>\n",
       "  <tbody>\n",
       "  </tbody>\n",
       "</table>\n",
       "<p>0 rows × 38 columns</p>\n",
       "</div>"
      ],
      "text/plain": [
       "Empty DataFrame\n",
       "Columns: [parcelid, basementsqft, bathroomcnt, bedroomcnt, buildingqualitytypeid, calculatedbathnbr, decktypeid, calculatedfinishedsquarefeet, finishedsquarefeet12, fips, fireplacecnt, fullbathcnt, garagecarcnt, hashottuborspa, latitude, longitude, lotsizesquarefeet, poolcnt, poolsizesum, propertycountylandusecode, propertyzoningdesc, rawcensustractandblock, regionidcity, regionidcounty, regionidzip, roomcnt, unitcnt, yearbuilt, structuretaxvaluedollarcnt, taxvaluedollarcnt, assessmentyear, landtaxvaluedollarcnt, taxamount, censustractandblock, logerror, transactiondate, heatingorsystemdesc, propertylandusedesc]\n",
       "Index: []\n",
       "\n",
       "[0 rows x 38 columns]"
      ]
     },
     "execution_count": 16,
     "metadata": {},
     "output_type": "execute_result"
    }
   ],
   "source": [
    "properties[properties.calculatedbathnbr != properties.bathroomcnt]"
   ]
  },
  {
   "cell_type": "markdown",
   "metadata": {},
   "source": [
    "##### Dropping `finishedsquarefeet12` since it's values are the same as `calculatedfinishedsquarefeet`. Same with `calculatedbathnbr` and `bathroomcnt`."
   ]
  },
  {
   "cell_type": "code",
   "execution_count": 17,
   "metadata": {},
   "outputs": [],
   "source": [
    "properties.drop(['finishedsquarefeet12', 'calculatedbathnbr'], axis=1, inplace=True)"
   ]
  },
  {
   "cell_type": "markdown",
   "metadata": {},
   "source": [
    "##### Dropping `fullbathcnt` since it is similar to `bathroomcnt`."
   ]
  },
  {
   "cell_type": "code",
   "execution_count": 18,
   "metadata": {},
   "outputs": [],
   "source": [
    "properties.drop(['fullbathcnt'], axis=1, inplace=True)"
   ]
  },
  {
   "cell_type": "markdown",
   "metadata": {},
   "source": [
    "##### I don't think land use code or zoning description will be a factor in estimate error.\n",
    "They will be dropped."
   ]
  },
  {
   "cell_type": "code",
   "execution_count": 19,
   "metadata": {
    "scrolled": true
   },
   "outputs": [
    {
     "data": {
      "text/plain": [
       "array(['0100', '010C', '010E', '0104', '0101', '01DC', '012C', '010G',\n",
       "       '0103', '010M', '01HC', '0108', '0109', '010H', '010V', '0102',\n",
       "       '0130', '012E', '0110', '010', '0131', '0133', '0105', '012D',\n",
       "       '0113'], dtype=object)"
      ]
     },
     "execution_count": 19,
     "metadata": {},
     "output_type": "execute_result"
    }
   ],
   "source": [
    "properties.propertycountylandusecode.unique()"
   ]
  },
  {
   "cell_type": "code",
   "execution_count": 20,
   "metadata": {},
   "outputs": [],
   "source": [
    "properties.drop(['propertycountylandusecode', 'propertyzoningdesc'], axis=1, inplace=True)"
   ]
  },
  {
   "cell_type": "markdown",
   "metadata": {},
   "source": [
    "##### Dropping `roomcnt` since it's values don't make sense."
   ]
  },
  {
   "cell_type": "code",
   "execution_count": 21,
   "metadata": {},
   "outputs": [],
   "source": [
    "properties.drop(['roomcnt'], axis=1, inplace=True)"
   ]
  },
  {
   "cell_type": "code",
   "execution_count": 22,
   "metadata": {},
   "outputs": [
    {
     "data": {
      "text/plain": [
       "(90578, 32)"
      ]
     },
     "execution_count": 22,
     "metadata": {},
     "output_type": "execute_result"
    }
   ],
   "source": [
    "properties.shape"
   ]
  },
  {
   "cell_type": "markdown",
   "metadata": {},
   "source": [
    "##### Dropping `basementsqft`, `decktypeid`, `poolsizesum`, and `fireplacecnt`  since the values are all 0."
   ]
  },
  {
   "cell_type": "code",
   "execution_count": 23,
   "metadata": {},
   "outputs": [],
   "source": [
    "properties.drop(['basementsqft', 'decktypeid', 'fireplacecnt', 'poolsizesum'], axis=1, inplace=True)"
   ]
  },
  {
   "cell_type": "code",
   "execution_count": null,
   "metadata": {},
   "outputs": [],
   "source": []
  },
  {
   "cell_type": "markdown",
   "metadata": {},
   "source": [
    "##### Are the descriptions useful? Example: `airconditioningdesc` can be centralized or refrigeration, but can also just be 'yes'.\n",
    "Seeing that properties can have 'presumably' no air conditioning but still have a bed or bath, it seems like this column may not be useful."
   ]
  },
  {
   "cell_type": "code",
   "execution_count": 24,
   "metadata": {},
   "outputs": [],
   "source": [
    "# properties[(properties.airconditioningdesc.isna()) & ((properties.bathroomcnt > 0) | (properties.bedroomcnt > 0))].describe()"
   ]
  },
  {
   "cell_type": "markdown",
   "metadata": {},
   "source": [
    "# Outliers kept in for now"
   ]
  },
  {
   "cell_type": "markdown",
   "metadata": {},
   "source": [
    "### Handling of Outliers\n",
    "Outliers will be determined using IQR, specifically by looking for values that are over the Q3 point by 1.5 (IQR) or those that are under the Q1 point by 1.5 (IQR). I will be using my `detect_and_remove_outliers()` to do so. I will be handling some columns differently. For bedroom and bathroom counts, any outliers will be grouped into those with more than x amount."
   ]
  },
  {
   "cell_type": "code",
   "execution_count": 25,
   "metadata": {
    "scrolled": false
   },
   "outputs": [],
   "source": [
    "# prepare_zillow.detect_and_remove_outliers(properties)"
   ]
  },
  {
   "cell_type": "code",
   "execution_count": 26,
   "metadata": {},
   "outputs": [
    {
     "data": {
      "text/plain": [
       "(90578, 28)"
      ]
     },
     "execution_count": 26,
     "metadata": {},
     "output_type": "execute_result"
    }
   ],
   "source": [
    "properties.shape"
   ]
  },
  {
   "cell_type": "code",
   "execution_count": 27,
   "metadata": {},
   "outputs": [
    {
     "data": {
      "text/plain": [
       "count    90578.000000\n",
       "mean         2.949833\n",
       "std          0.990399\n",
       "min          0.000000\n",
       "25%          2.000000\n",
       "50%          3.000000\n",
       "75%          4.000000\n",
       "max         16.000000\n",
       "Name: bedroomcnt, dtype: float64"
      ]
     },
     "execution_count": 27,
     "metadata": {},
     "output_type": "execute_result"
    }
   ],
   "source": [
    "properties.bedroomcnt.describe()"
   ]
  },
  {
   "cell_type": "code",
   "execution_count": 28,
   "metadata": {
    "scrolled": false
   },
   "outputs": [
    {
     "data": {
      "text/plain": [
       "3.0     38399\n",
       "2.0     24797\n",
       "4.0     17863\n",
       "5.0      4206\n",
       "1.0      4074\n",
       "6.0       734\n",
       "0.0       310\n",
       "7.0       145\n",
       "8.0        36\n",
       "9.0        11\n",
       "11.0        1\n",
       "16.0        1\n",
       "10.0        1\n",
       "Name: bedroomcnt, dtype: int64"
      ]
     },
     "execution_count": 28,
     "metadata": {},
     "output_type": "execute_result"
    }
   ],
   "source": [
    "properties.bedroomcnt.value_counts()"
   ]
  },
  {
   "cell_type": "markdown",
   "metadata": {},
   "source": [
    "##### If a property has more than 6 bedrooms, it will just be listed as having 6."
   ]
  },
  {
   "cell_type": "code",
   "execution_count": 29,
   "metadata": {
    "scrolled": false
   },
   "outputs": [
    {
     "data": {
      "text/plain": [
       "count    90578.000000\n",
       "mean         2.946863\n",
       "std          0.978225\n",
       "min          0.000000\n",
       "25%          2.000000\n",
       "50%          3.000000\n",
       "75%          4.000000\n",
       "max          6.000000\n",
       "Name: bedroomcnt, dtype: float64"
      ]
     },
     "execution_count": 29,
     "metadata": {},
     "output_type": "execute_result"
    }
   ],
   "source": [
    "properties.loc[properties.bedroomcnt > 6, 'bedroomcnt'] = 6\n",
    "properties.bedroomcnt.describe()"
   ]
  },
  {
   "cell_type": "code",
   "execution_count": 30,
   "metadata": {},
   "outputs": [
    {
     "data": {
      "text/plain": [
       "2.0     41663\n",
       "3.0     22567\n",
       "1.0     20627\n",
       "4.0      3629\n",
       "5.0      1372\n",
       "6.0       479\n",
       "7.0       151\n",
       "8.0        58\n",
       "9.0        22\n",
       "10.0        6\n",
       "11.0        3\n",
       "20.0        1\n",
       "Name: bathroomcnt, dtype: int64"
      ]
     },
     "execution_count": 30,
     "metadata": {},
     "output_type": "execute_result"
    }
   ],
   "source": [
    "properties.bathroomcnt.value_counts()"
   ]
  },
  {
   "cell_type": "markdown",
   "metadata": {},
   "source": [
    "##### If a property has more than 4 bathrooms, it will just be listed as having 4."
   ]
  },
  {
   "cell_type": "code",
   "execution_count": 31,
   "metadata": {
    "scrolled": true
   },
   "outputs": [
    {
     "data": {
      "text/plain": [
       "count    90578.000000\n",
       "mean         2.147740\n",
       "std          0.841246\n",
       "min          1.000000\n",
       "25%          2.000000\n",
       "50%          2.000000\n",
       "75%          3.000000\n",
       "max          4.000000\n",
       "Name: bathroomcnt, dtype: float64"
      ]
     },
     "execution_count": 31,
     "metadata": {},
     "output_type": "execute_result"
    }
   ],
   "source": [
    "properties.loc[properties.bathroomcnt > 4, 'bathroomcnt'] = 4\n",
    "properties.bathroomcnt.describe()"
   ]
  },
  {
   "cell_type": "markdown",
   "metadata": {},
   "source": [
    "## Exploration Phase"
   ]
  },
  {
   "cell_type": "markdown",
   "metadata": {},
   "source": [
    "##### Plotting a pairplot and a heatmap of all ordered numeric variables."
   ]
  },
  {
   "cell_type": "code",
   "execution_count": 32,
   "metadata": {
    "scrolled": false
   },
   "outputs": [],
   "source": [
    "# explore_zillow.pair_heat_(properties[['bathroomcnt', 'bedroomcnt', 'calculatedfinishedsquarefeet', \n",
    "#                           'latitude', 'longitude', 'lotsizesquarefeet', 'rawcensustractandblock', 'yearbuilt', \n",
    "#                          'structuretaxvaluedollarcnt', 'taxvaluedollarcnt', 'landtaxvaluedollarcnt', 'taxamount', \n",
    "#                          'logerror']].sample(100))"
   ]
  },
  {
   "cell_type": "markdown",
   "metadata": {},
   "source": [
    "##### Plotting a relplot of two ordered numerical variables and one categorical variable."
   ]
  },
  {
   "cell_type": "code",
   "execution_count": 33,
   "metadata": {},
   "outputs": [],
   "source": [
    "# explore_zillow.relplot_TwoNum_OneCat(properties.sample(1000), 'latitude', 'longitude', 'heatingorsystemdesc')"
   ]
  },
  {
   "cell_type": "markdown",
   "metadata": {},
   "source": [
    "##### Plotting subplots of swarmplots for a categorical variable and listed numerical variables."
   ]
  },
  {
   "cell_type": "code",
   "execution_count": 34,
   "metadata": {},
   "outputs": [],
   "source": [
    "# explore_zillow.swarm_subs(properties.sample(500), 'heatingorsystemdesc', \n",
    "#                           ['bathroomcnt', 'bedroomcnt', 'calculatedfinishedsquarefeet', 'yearbuilt'])"
   ]
  },
  {
   "cell_type": "code",
   "execution_count": 35,
   "metadata": {},
   "outputs": [
    {
     "data": {
      "image/png": "[encoded data removed]",
      "text/plain": [
       "<Figure size 432x288 with 1 Axes>"
      ]
     },
     "metadata": {
      "needs_background": "light"
     },
     "output_type": "display_data"
    },
    {
     "data": {
      "image/png": "[encoded data removed]",
      "text/plain": [
       "<Figure size 432x288 with 1 Axes>"
      ]
     },
     "metadata": {
      "needs_background": "light"
     },
     "output_type": "display_data"
    },
    {
     "data": {
      "image/png": "[encoded data removed]",
      "text/plain": [
       "<Figure size 432x288 with 1 Axes>"
      ]
     },
     "metadata": {
      "needs_background": "light"
     },
     "output_type": "display_data"
    }
   ],
   "source": [
    "explore_zillow.cat_distributions(properties.sample(500), ['yearbuilt', 'bedroomcnt', 'bathroomcnt'], 'logerror')"
   ]
  },
  {
   "cell_type": "markdown",
   "metadata": {},
   "source": [
    "### Performing ttests to check for differences in logerror between groups."
   ]
  },
  {
   "cell_type": "code",
   "execution_count": 39,
   "metadata": {},
   "outputs": [
    {
     "name": "stdout",
     "output_type": "stream",
     "text": [
      "Ttest_indResult(statistic=-1.4761090568060269, pvalue=0.13991809427498583)\n",
      "The p-value is : 0.13991809427498583\n",
      "Not significant.\n"
     ]
    }
   ],
   "source": [
    "a = properties[properties.yearbuilt < 1920]\n",
    "b = properties[properties.yearbuilt >= 1920]\n",
    "\n",
    "explore_zillow.print_ttest_results(a.logerror, b.logerror)"
   ]
  },
  {
   "cell_type": "code",
   "execution_count": 40,
   "metadata": {},
   "outputs": [
    {
     "name": "stdout",
     "output_type": "stream",
     "text": [
      "Ttest_indResult(statistic=-7.293564161519822, pvalue=3.043154812081684e-13)\n",
      "The p-value is : 3.043154812081684e-13\n",
      "There is a significant difference.\n"
     ]
    }
   ],
   "source": [
    "a = properties[properties.bathroomcnt < 3]\n",
    "b = properties[properties.bathroomcnt >= 3]\n",
    "\n",
    "explore_zillow.print_ttest_results(a.logerror, b.logerror)"
   ]
  },
  {
   "cell_type": "code",
   "execution_count": 47,
   "metadata": {},
   "outputs": [
    {
     "name": "stdout",
     "output_type": "stream",
     "text": [
      "Ttest_indResult(statistic=-0.5319585059499564, pvalue=0.5947560392944973)\n",
      "The p-value is : 0.5947560392944973\n",
      "Not significant.\n"
     ]
    }
   ],
   "source": [
    "a = properties[properties.hashottuborspa == 0]\n",
    "b = properties[properties.hashottuborspa == 1]\n",
    "\n",
    "explore_zillow.print_ttest_results(a.logerror, b.logerror)"
   ]
  },
  {
   "cell_type": "code",
   "execution_count": 49,
   "metadata": {},
   "outputs": [
    {
     "name": "stdout",
     "output_type": "stream",
     "text": [
      "Ttest_indResult(statistic=2.8525314530300276, pvalue=0.004338234489510702)\n",
      "The p-value is : 0.004338234489510702\n",
      "There is a significant difference.\n"
     ]
    }
   ],
   "source": [
    "a = properties[properties.heatingorsystemdesc == 'Central']\n",
    "b = properties[properties.heatingorsystemdesc == 'Floor/Wall']\n",
    "\n",
    "explore_zillow.print_ttest_results(a.logerror, b.logerror)"
   ]
  },
  {
   "cell_type": "code",
   "execution_count": 53,
   "metadata": {},
   "outputs": [
    {
     "name": "stdout",
     "output_type": "stream",
     "text": [
      "Ttest_indResult(statistic=3.095853269087568, pvalue=0.001963073081064054)\n",
      "The p-value is : 0.001963073081064054\n",
      "There is a significant difference.\n"
     ]
    }
   ],
   "source": [
    "a = properties[properties.poolcnt == 0]\n",
    "b = properties[properties.poolcnt == 1]\n",
    "\n",
    "explore_zillow.print_ttest_results(a.logerror, b.logerror)"
   ]
  },
  {
   "cell_type": "code",
   "execution_count": 54,
   "metadata": {},
   "outputs": [
    {
     "name": "stdout",
     "output_type": "stream",
     "text": [
      "Ttest_indResult(statistic=-6.638481087857133, pvalue=3.187116709523059e-11)\n",
      "The p-value is : 3.187116709523059e-11\n",
      "There is a significant difference.\n"
     ]
    }
   ],
   "source": [
    "a = properties[properties.yearbuilt < 1950]\n",
    "b = properties[properties.yearbuilt >= 1950]\n",
    "\n",
    "explore_zillow.print_ttest_results(a.logerror, b.logerror)"
   ]
  },
  {
   "cell_type": "code",
   "execution_count": 52,
   "metadata": {},
   "outputs": [
    {
     "data": {
      "text/plain": [
       "parcelid                         object\n",
       "bathroomcnt                     float64\n",
       "bedroomcnt                      float64\n",
       "buildingqualitytypeid            object\n",
       "calculatedfinishedsquarefeet    float64\n",
       "fips                             object\n",
       "garagecarcnt                    float64\n",
       "hashottuborspa                   object\n",
       "latitude                        float64\n",
       "longitude                       float64\n",
       "lotsizesquarefeet               float64\n",
       "poolcnt                         float64\n",
       "rawcensustractandblock          float64\n",
       "regionidcity                     object\n",
       "regionidcounty                   object\n",
       "regionidzip                      object\n",
       "unitcnt                         float64\n",
       "yearbuilt                       float64\n",
       "structuretaxvaluedollarcnt      float64\n",
       "taxvaluedollarcnt               float64\n",
       "assessmentyear                  float64\n",
       "landtaxvaluedollarcnt           float64\n",
       "taxamount                       float64\n",
       "censustractandblock             float64\n",
       "logerror                        float64\n",
       "transactiondate                  object\n",
       "heatingorsystemdesc              object\n",
       "propertylandusedesc              object\n",
       "dtype: object"
      ]
     },
     "execution_count": 52,
     "metadata": {},
     "output_type": "execute_result"
    }
   ],
   "source": [
    "properties.dtypes"
   ]
  },
  {
   "cell_type": "code",
   "execution_count": null,
   "metadata": {},
   "outputs": [],
   "source": []
  }
 ],
 "metadata": {
  "kernelspec": {
   "display_name": "Python 3",
   "language": "python",
   "name": "python3"
  },
  "language_info": {
   "codemirror_mode": {
    "name": "ipython",
    "version": 3
   },
   "file_extension": ".py",
   "mimetype": "text/x-python",
   "name": "python",
   "nbconvert_exporter": "python",
   "pygments_lexer": "ipython3",
   "version": "3.7.1"
  }
 },
 "nbformat": 4,
 "nbformat_minor": 2
}
