{
 "cells": [
  {
   "cell_type": "code",
   "execution_count": 3,
   "metadata": {},
   "outputs": [],
   "source": [
    "%matplotlib inline\n",
    "from env import get_connection, password, host, user\n",
    "import acquire_zillow\n",
    "import acquire_mall\n",
    "import prepare_mall\n",
    "import prepare_zillow\n",
    "import pandas as pd\n",
    "import matplotlib.pyplot as plt\n",
    "import seaborn as sns\n",
    "from sklearn.linear_model import LinearRegression\n",
    "from sklearn.metrics import mean_absolute_error, r2_score"
   ]
  },
  {
   "cell_type": "code",
   "execution_count": 4,
   "metadata": {
    "scrolled": true
   },
   "outputs": [
    {
     "name": "stderr",
     "output_type": "stream",
     "text": [
      "/usr/local/anaconda3/lib/python3.7/site-packages/IPython/core/interactiveshell.py:3020: DtypeWarning: Columns (57) have mixed types. Specify dtype option on import or set low_memory=False.\n",
      "  interactivity=interactivity, compiler=compiler, result=result)\n"
     ]
    }
   ],
   "source": [
    "properties = pd.read_csv('zillow_properties.csv', sep='\\t')"
   ]
  },
  {
   "cell_type": "code",
   "execution_count": 5,
   "metadata": {},
   "outputs": [],
   "source": [
    "properties.drop(['Unnamed: 0', 'parcelid.1'], axis=1, inplace=True)"
   ]
  },
  {
   "cell_type": "code",
   "execution_count": 6,
   "metadata": {},
   "outputs": [
    {
     "data": {
      "text/plain": [
       "(167888, 60)"
      ]
     },
     "execution_count": 6,
     "metadata": {},
     "output_type": "execute_result"
    }
   ],
   "source": [
    "properties.shape"
   ]
  },
  {
   "cell_type": "markdown",
   "metadata": {},
   "source": [
    "### Filling nulls with zeros. These properties were chosen because they either are binary and just didn't have 0's, or they are some type of cnt that was left blank since it was 0."
   ]
  },
  {
   "cell_type": "code",
   "execution_count": 7,
   "metadata": {},
   "outputs": [],
   "source": [
    "properties = prepare_zillow.replace_nulls_with_zeros(properties, ['hashottuborspa', 'poolcnt', 'poolsizesum', \n",
    "                                                                  'basementsqft', 'decktypeid', 'fireplacecnt',\n",
    "                                                                  'garagecarcnt'])"
   ]
  },
  {
   "cell_type": "markdown",
   "metadata": {},
   "source": [
    "### Grabbing only those properties that are single unit and have lat and lon. \n",
    "The columns that are transformed to object dtypes are chosen because they either are just simple id numbers or a binary representing yes or no."
   ]
  },
  {
   "cell_type": "code",
   "execution_count": 8,
   "metadata": {},
   "outputs": [],
   "source": [
    "properties = prepare_zillow.single_lat_lon_objects(properties, ['parcelid', 'buildingqualitytypeid', \n",
    "                                                                'decktypeid', 'fips', 'hashottuborspa', \n",
    "                                                                'pooltypeid10', 'pooltypeid2', 'pooltypeid7', \n",
    "                                                                'regionidcity', 'regionidcounty',\n",
    "                                                                'regionidneighborhood', 'regionidzip', \n",
    "                                                                'fireplaceflag'])\n"
   ]
  },
  {
   "cell_type": "code",
   "execution_count": 9,
   "metadata": {
    "scrolled": true
   },
   "outputs": [
    {
     "data": {
      "text/plain": [
       "(97618, 60)"
      ]
     },
     "execution_count": 9,
     "metadata": {},
     "output_type": "execute_result"
    }
   ],
   "source": [
    "properties.shape"
   ]
  },
  {
   "cell_type": "code",
   "execution_count": 10,
   "metadata": {},
   "outputs": [
    {
     "name": "stdout",
     "output_type": "stream",
     "text": [
      "buildingqualitytypeid has 954 missing values, accounting for 0.98% of that column.\n",
      "calculatedbathnbr has 8 missing values, accounting for 0.01% of that column.\n",
      "finishedfloor1squarefeet has 97618 missing values, accounting for 100.00% of that column.\n",
      "calculatedfinishedsquarefeet has 4 missing values, accounting for 0.00% of that column.\n",
      "finishedsquarefeet12 has 15 missing values, accounting for 0.02% of that column.\n",
      "finishedsquarefeet13 has 97618 missing values, accounting for 100.00% of that column.\n",
      "finishedsquarefeet15 has 97607 missing values, accounting for 99.99% of that column.\n",
      "finishedsquarefeet50 has 97618 missing values, accounting for 100.00% of that column.\n",
      "finishedsquarefeet6 has 97618 missing values, accounting for 100.00% of that column.\n",
      "fullbathcnt has 8 missing values, accounting for 0.01% of that column.\n",
      "garagetotalsqft has 97610 missing values, accounting for 99.99% of that column.\n",
      "lotsizesquarefeet has 2516 missing values, accounting for 2.58% of that column.\n",
      "pooltypeid10 has 97043 missing values, accounting for 99.41% of that column.\n",
      "pooltypeid2 has 97618 missing values, accounting for 100.00% of that column.\n",
      "pooltypeid7 has 74048 missing values, accounting for 75.85% of that column.\n",
      "propertyzoningdesc has 403 missing values, accounting for 0.41% of that column.\n",
      "regionidcity has 2054 missing values, accounting for 2.10% of that column.\n",
      "regionidneighborhood has 47499 missing values, accounting for 48.66% of that column.\n",
      "regionidzip has 18 missing values, accounting for 0.02% of that column.\n",
      "threequarterbathnbr has 97617 missing values, accounting for 100.00% of that column.\n",
      "yardbuildingsqft17 has 97618 missing values, accounting for 100.00% of that column.\n",
      "yardbuildingsqft26 has 97618 missing values, accounting for 100.00% of that column.\n",
      "yearbuilt has 20 missing values, accounting for 0.02% of that column.\n",
      "numberofstories has 97604 missing values, accounting for 99.99% of that column.\n",
      "fireplaceflag has 97617 missing values, accounting for 100.00% of that column.\n",
      "structuretaxvaluedollarcnt has 110 missing values, accounting for 0.11% of that column.\n",
      "taxamount has 8 missing values, accounting for 0.01% of that column.\n",
      "taxdelinquencyflag has 94021 missing values, accounting for 96.32% of that column.\n",
      "taxdelinquencyyear has 94021 missing values, accounting for 96.32% of that column.\n",
      "censustractandblock has 199 missing values, accounting for 0.20% of that column.\n",
      "airconditioningdesc has 53869 missing values, accounting for 55.18% of that column.\n",
      "architecturalstyledesc has 97617 missing values, accounting for 100.00% of that column.\n",
      "buildingclassdesc has 97618 missing values, accounting for 100.00% of that column.\n",
      "heatingorsystemdesc has 1512 missing values, accounting for 1.55% of that column.\n",
      "storydesc has 97618 missing values, accounting for 100.00% of that column.\n",
      "typeconstructiondesc has 97618 missing values, accounting for 100.00% of that column.\n"
     ]
    }
   ],
   "source": [
    "prepare_zillow.missing_vals_cols(properties)"
   ]
  },
  {
   "cell_type": "markdown",
   "metadata": {},
   "source": [
    "### Do any columns have too many NaN's to be useful?\n",
    "After looking at the print out and seeing which columns have what percentage of null values, I decide that if a column is more than 30% null, it should be dropped."
   ]
  },
  {
   "cell_type": "code",
   "execution_count": 11,
   "metadata": {
    "scrolled": true
   },
   "outputs": [],
   "source": [
    "prepare_zillow.drop_col_if_too_many_nulls(properties, .30)"
   ]
  },
  {
   "cell_type": "markdown",
   "metadata": {},
   "source": [
    "Nulls still present but not nearly as many."
   ]
  },
  {
   "cell_type": "code",
   "execution_count": 12,
   "metadata": {
    "scrolled": true
   },
   "outputs": [
    {
     "name": "stdout",
     "output_type": "stream",
     "text": [
      "buildingqualitytypeid has 954 missing values, accounting for 0.98% of that column.\n",
      "calculatedbathnbr has 8 missing values, accounting for 0.01% of that column.\n",
      "calculatedfinishedsquarefeet has 4 missing values, accounting for 0.00% of that column.\n",
      "finishedsquarefeet12 has 15 missing values, accounting for 0.02% of that column.\n",
      "fullbathcnt has 8 missing values, accounting for 0.01% of that column.\n",
      "lotsizesquarefeet has 2516 missing values, accounting for 2.58% of that column.\n",
      "propertyzoningdesc has 403 missing values, accounting for 0.41% of that column.\n",
      "regionidcity has 2054 missing values, accounting for 2.10% of that column.\n",
      "regionidzip has 18 missing values, accounting for 0.02% of that column.\n",
      "yearbuilt has 20 missing values, accounting for 0.02% of that column.\n",
      "structuretaxvaluedollarcnt has 110 missing values, accounting for 0.11% of that column.\n",
      "taxamount has 8 missing values, accounting for 0.01% of that column.\n",
      "censustractandblock has 199 missing values, accounting for 0.20% of that column.\n",
      "heatingorsystemdesc has 1512 missing values, accounting for 1.55% of that column.\n"
     ]
    }
   ],
   "source": [
    "prepare_zillow.missing_vals_cols(properties)"
   ]
  },
  {
   "cell_type": "code",
   "execution_count": 13,
   "metadata": {},
   "outputs": [
    {
     "data": {
      "text/plain": [
       "(97618, 38)"
      ]
     },
     "execution_count": 13,
     "metadata": {},
     "output_type": "execute_result"
    }
   ],
   "source": [
    "properties.shape"
   ]
  },
  {
   "cell_type": "markdown",
   "metadata": {},
   "source": [
    "### Dropping the rows with remaining null values."
   ]
  },
  {
   "cell_type": "code",
   "execution_count": 14,
   "metadata": {},
   "outputs": [],
   "source": [
    "properties.dropna(inplace=True)"
   ]
  },
  {
   "cell_type": "code",
   "execution_count": 15,
   "metadata": {},
   "outputs": [
    {
     "data": {
      "text/plain": [
       "(90578, 38)"
      ]
     },
     "execution_count": 15,
     "metadata": {},
     "output_type": "execute_result"
    }
   ],
   "source": [
    "properties.shape"
   ]
  },
  {
   "cell_type": "code",
   "execution_count": 16,
   "metadata": {},
   "outputs": [
    {
     "data": {
      "text/plain": [
       "parcelid                        0\n",
       "basementsqft                    0\n",
       "bathroomcnt                     0\n",
       "bedroomcnt                      0\n",
       "buildingqualitytypeid           0\n",
       "calculatedbathnbr               0\n",
       "decktypeid                      0\n",
       "calculatedfinishedsquarefeet    0\n",
       "finishedsquarefeet12            0\n",
       "fips                            0\n",
       "fireplacecnt                    0\n",
       "fullbathcnt                     0\n",
       "garagecarcnt                    0\n",
       "hashottuborspa                  0\n",
       "latitude                        0\n",
       "longitude                       0\n",
       "lotsizesquarefeet               0\n",
       "poolcnt                         0\n",
       "poolsizesum                     0\n",
       "propertycountylandusecode       0\n",
       "propertyzoningdesc              0\n",
       "rawcensustractandblock          0\n",
       "regionidcity                    0\n",
       "regionidcounty                  0\n",
       "regionidzip                     0\n",
       "roomcnt                         0\n",
       "unitcnt                         0\n",
       "yearbuilt                       0\n",
       "structuretaxvaluedollarcnt      0\n",
       "taxvaluedollarcnt               0\n",
       "assessmentyear                  0\n",
       "landtaxvaluedollarcnt           0\n",
       "taxamount                       0\n",
       "censustractandblock             0\n",
       "logerror                        0\n",
       "transactiondate                 0\n",
       "heatingorsystemdesc             0\n",
       "propertylandusedesc             0\n",
       "dtype: int64"
      ]
     },
     "execution_count": 16,
     "metadata": {},
     "output_type": "execute_result"
    }
   ],
   "source": [
    "properties.isna().sum()"
   ]
  },
  {
   "cell_type": "code",
   "execution_count": 17,
   "metadata": {
    "scrolled": true
   },
   "outputs": [
    {
     "data": {
      "text/html": [
       "<div>\n",
       "<style scoped>\n",
       "    .dataframe tbody tr th:only-of-type {\n",
       "        vertical-align: middle;\n",
       "    }\n",
       "\n",
       "    .dataframe tbody tr th {\n",
       "        vertical-align: top;\n",
       "    }\n",
       "\n",
       "    .dataframe thead th {\n",
       "        text-align: right;\n",
       "    }\n",
       "</style>\n",
       "<table border=\"1\" class=\"dataframe\">\n",
       "  <thead>\n",
       "    <tr style=\"text-align: right;\">\n",
       "      <th></th>\n",
       "      <th>parcelid</th>\n",
       "      <th>basementsqft</th>\n",
       "      <th>bathroomcnt</th>\n",
       "      <th>bedroomcnt</th>\n",
       "      <th>buildingqualitytypeid</th>\n",
       "      <th>calculatedbathnbr</th>\n",
       "      <th>decktypeid</th>\n",
       "      <th>calculatedfinishedsquarefeet</th>\n",
       "      <th>finishedsquarefeet12</th>\n",
       "      <th>fips</th>\n",
       "      <th>...</th>\n",
       "      <th>structuretaxvaluedollarcnt</th>\n",
       "      <th>taxvaluedollarcnt</th>\n",
       "      <th>assessmentyear</th>\n",
       "      <th>landtaxvaluedollarcnt</th>\n",
       "      <th>taxamount</th>\n",
       "      <th>censustractandblock</th>\n",
       "      <th>logerror</th>\n",
       "      <th>transactiondate</th>\n",
       "      <th>heatingorsystemdesc</th>\n",
       "      <th>propertylandusedesc</th>\n",
       "    </tr>\n",
       "  </thead>\n",
       "  <tbody>\n",
       "  </tbody>\n",
       "</table>\n",
       "<p>0 rows × 38 columns</p>\n",
       "</div>"
      ],
      "text/plain": [
       "Empty DataFrame\n",
       "Columns: [parcelid, basementsqft, bathroomcnt, bedroomcnt, buildingqualitytypeid, calculatedbathnbr, decktypeid, calculatedfinishedsquarefeet, finishedsquarefeet12, fips, fireplacecnt, fullbathcnt, garagecarcnt, hashottuborspa, latitude, longitude, lotsizesquarefeet, poolcnt, poolsizesum, propertycountylandusecode, propertyzoningdesc, rawcensustractandblock, regionidcity, regionidcounty, regionidzip, roomcnt, unitcnt, yearbuilt, structuretaxvaluedollarcnt, taxvaluedollarcnt, assessmentyear, landtaxvaluedollarcnt, taxamount, censustractandblock, logerror, transactiondate, heatingorsystemdesc, propertylandusedesc]\n",
       "Index: []\n",
       "\n",
       "[0 rows x 38 columns]"
      ]
     },
     "execution_count": 17,
     "metadata": {},
     "output_type": "execute_result"
    }
   ],
   "source": [
    "properties[properties.calculatedfinishedsquarefeet != properties.finishedsquarefeet12]"
   ]
  },
  {
   "cell_type": "markdown",
   "metadata": {},
   "source": [
    "##### Dropping `finishedsquarefeet12` since it's values are the same as `calculatedfinishedsquarefeet`."
   ]
  },
  {
   "cell_type": "code",
   "execution_count": 18,
   "metadata": {},
   "outputs": [],
   "source": [
    "properties.drop(['finishedsquarefeet12'], axis=1, inplace=True)"
   ]
  },
  {
   "cell_type": "markdown",
   "metadata": {},
   "source": [
    "##### Dropping `fullbathcnt` since it is similar to `bathroomcnt`."
   ]
  },
  {
   "cell_type": "code",
   "execution_count": 19,
   "metadata": {},
   "outputs": [],
   "source": [
    "properties.drop(['fullbathcnt'], axis=1, inplace=True)"
   ]
  },
  {
   "cell_type": "markdown",
   "metadata": {},
   "source": [
    "##### I don't think land use code or zoning description will be a factor in estimate error.\n",
    "They will be dropped."
   ]
  },
  {
   "cell_type": "code",
   "execution_count": 20,
   "metadata": {
    "scrolled": true
   },
   "outputs": [
    {
     "data": {
      "text/plain": [
       "array(['0100', '010C', '010E', '0104', '0101', '01DC', '012C', '010G',\n",
       "       '0103', '010M', '01HC', '0108', '0109', '010H', '010V', '0102',\n",
       "       '0130', '012E', '0110', '010', '0131', '0133', '0105', '012D',\n",
       "       '0113'], dtype=object)"
      ]
     },
     "execution_count": 20,
     "metadata": {},
     "output_type": "execute_result"
    }
   ],
   "source": [
    "properties.propertycountylandusecode.unique()"
   ]
  },
  {
   "cell_type": "code",
   "execution_count": 21,
   "metadata": {},
   "outputs": [],
   "source": [
    "properties.drop(['propertycountylandusecode', 'propertyzoningdesc'], axis=1, inplace=True)"
   ]
  },
  {
   "cell_type": "code",
   "execution_count": 31,
   "metadata": {},
   "outputs": [
    {
     "data": {
      "text/plain": [
       "array([6037.0], dtype=object)"
      ]
     },
     "execution_count": 31,
     "metadata": {},
     "output_type": "execute_result"
    }
   ],
   "source": []
  },
  {
   "cell_type": "code",
   "execution_count": null,
   "metadata": {},
   "outputs": [],
   "source": []
  },
  {
   "cell_type": "code",
   "execution_count": null,
   "metadata": {},
   "outputs": [],
   "source": []
  },
  {
   "cell_type": "code",
   "execution_count": null,
   "metadata": {},
   "outputs": [],
   "source": []
  },
  {
   "cell_type": "code",
   "execution_count": null,
   "metadata": {},
   "outputs": [],
   "source": []
  },
  {
   "cell_type": "code",
   "execution_count": null,
   "metadata": {},
   "outputs": [],
   "source": []
  },
  {
   "cell_type": "code",
   "execution_count": null,
   "metadata": {},
   "outputs": [],
   "source": []
  },
  {
   "cell_type": "code",
   "execution_count": null,
   "metadata": {},
   "outputs": [],
   "source": []
  },
  {
   "cell_type": "markdown",
   "metadata": {},
   "source": [
    "##### Are the descriptions useful? Example: `airconditioningdesc` can be centralized or refrigeration, but can also just be 'yes'.\n",
    "Seeing that properties can have 'presumably' no air conditioning but still have a bed or bath, it seems like this column may not be useful."
   ]
  },
  {
   "cell_type": "code",
   "execution_count": null,
   "metadata": {},
   "outputs": [],
   "source": [
    "# properties[(properties.airconditioningdesc.isna()) & ((properties.bathroomcnt > 0) | (properties.bedroomcnt > 0))].describe()"
   ]
  },
  {
   "cell_type": "markdown",
   "metadata": {},
   "source": [
    "### Handling of Outliers\n",
    "Outliers will be determined using IQR, specifically by looking for values that are over the Q3 point by 1.5 (IQR) or those that are under the Q1 point by 1.5 (IQR). I will be using my `detect_and_remove_outliers()` to do so. "
   ]
  },
  {
   "cell_type": "code",
   "execution_count": null,
   "metadata": {},
   "outputs": [],
   "source": [
    "prepare_zillow.detect_and_remove_outliers(properties)"
   ]
  },
  {
   "cell_type": "code",
   "execution_count": null,
   "metadata": {},
   "outputs": [],
   "source": [
    "properties.shape"
   ]
  },
  {
   "cell_type": "code",
   "execution_count": null,
   "metadata": {},
   "outputs": [],
   "source": []
  },
  {
   "cell_type": "code",
   "execution_count": null,
   "metadata": {},
   "outputs": [],
   "source": []
  }
 ],
 "metadata": {
  "kernelspec": {
   "display_name": "Python 3",
   "language": "python",
   "name": "python3"
  },
  "language_info": {
   "codemirror_mode": {
    "name": "ipython",
    "version": 3
   },
   "file_extension": ".py",
   "mimetype": "text/x-python",
   "name": "python",
   "nbconvert_exporter": "python",
   "pygments_lexer": "ipython3",
   "version": "3.7.1"
  }
 },
 "nbformat": 4,
 "nbformat_minor": 2
}
